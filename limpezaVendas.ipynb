{
 "cells": [
  {
   "metadata": {},
   "cell_type": "markdown",
   "source": [
    "## 🔍 Importação das Bibliotecas e Leitura do Arquivo CSV\n",
    "Neste passo, vamos importar as bibliotecas necessárias e carregar o arquivo CSV para análise.\n",
    "\n"
   ],
   "id": "20c4aba14933e8f2"
  },
  {
   "metadata": {
    "ExecuteTime": {
     "end_time": "2025-04-21T20:40:02.685481Z",
     "start_time": "2025-04-21T20:39:52.384624Z"
    }
   },
   "cell_type": "code",
   "source": [
    "import pandas as pd\n",
    "import numpy as np\n",
    "# Caminho do arquivo CSV\n",
    "caminho_arquivo = 'vendas_modificado.csv'\n",
    "\n",
    "# Leitura do CSV com fallback de encoding corrigido via bytes\n",
    "df = pd.read_csv(caminho_arquivo, encoding='latin1')\n",
    "\n",
    "\n",
    "# Correção de textos com possível corrupção de UTF-8\n",
    "def corrigir_encoding(texto):\n",
    "    try:\n",
    "        return texto.encode('latin1').decode('utf-8')\n",
    "    except:\n",
    "        return texto\n",
    "\n",
    "\n",
    "# Aplicar em campos textuais princicep\n",
    "for coluna in ['cliente', 'produto', 'vendedor', 'marca', 'cidade', 'estado', 'cep', 'pagamento']:\n",
    "    df[coluna] = df[coluna].astype(str).apply(corrigir_encoding)\n"
   ],
   "id": "a428b005a3587054",
   "outputs": [],
   "execution_count": 32
  },
  {
   "metadata": {},
   "cell_type": "markdown",
   "source": [
    "## 🔍 Limpeza de Dados - Tratamento de Data e Hora\n",
    "O objetivo é garantir que a coluna `data` esteja no formato `YYYY-MM-DD` e a coluna `hora` no formato `HH:MM:SS`.\n",
    "\n",
    "### Passos:\n",
    "1. Converter o campo `data` para o formato `YYYY-MM-DD`.\n",
    "2. Ajustar o campo `hora` para o formato `HH:MM:SS`.\n"
   ],
   "id": "d010ce6e3d26807f"
  },
  {
   "metadata": {
    "ExecuteTime": {
     "end_time": "2025-04-21T20:40:09.681428Z",
     "start_time": "2025-04-21T20:40:02.736523Z"
    }
   },
   "cell_type": "code",
   "source": [
    "# Limpeza do campo 'data' para o formato 'YYYY-MM-DD'\n",
    "df['data'] = pd.to_datetime(df['data'], errors='coerce').dt.strftime('%Y-%m-%d')\n",
    "\n",
    "# Limpeza do campo 'hora' para o formato 'HH:MM:SS'\n",
    "# Supondo que o formato seja 'HH:MM' ou 'HH:MM:SS'\n",
    "df['hora'] = pd.to_datetime(df['hora'], format='%H:%M:%S', errors='coerce').dt.strftime('%H:%M:%S')\n",
    "\n",
    "# Verificar as primeiras linhas após a limpeza\n",
    "df[['data', 'hora']].head()\n"
   ],
   "id": "a1f1b05dff8e5a00",
   "outputs": [
    {
     "data": {
      "text/plain": [
       "         data      hora\n",
       "0  2021-03-20  23:35:51\n",
       "1  2020-10-30  09:00:53\n",
       "2  2021-06-09  15:30:28\n",
       "3  2022-06-04  08:41:23\n",
       "4  2019-05-04  13:38:45"
      ],
      "text/html": [
       "<div>\n",
       "<style scoped>\n",
       "    .dataframe tbody tr th:only-of-type {\n",
       "        vertical-align: middle;\n",
       "    }\n",
       "\n",
       "    .dataframe tbody tr th {\n",
       "        vertical-align: top;\n",
       "    }\n",
       "\n",
       "    .dataframe thead th {\n",
       "        text-align: right;\n",
       "    }\n",
       "</style>\n",
       "<table border=\"1\" class=\"dataframe\">\n",
       "  <thead>\n",
       "    <tr style=\"text-align: right;\">\n",
       "      <th></th>\n",
       "      <th>data</th>\n",
       "      <th>hora</th>\n",
       "    </tr>\n",
       "  </thead>\n",
       "  <tbody>\n",
       "    <tr>\n",
       "      <th>0</th>\n",
       "      <td>2021-03-20</td>\n",
       "      <td>23:35:51</td>\n",
       "    </tr>\n",
       "    <tr>\n",
       "      <th>1</th>\n",
       "      <td>2020-10-30</td>\n",
       "      <td>09:00:53</td>\n",
       "    </tr>\n",
       "    <tr>\n",
       "      <th>2</th>\n",
       "      <td>2021-06-09</td>\n",
       "      <td>15:30:28</td>\n",
       "    </tr>\n",
       "    <tr>\n",
       "      <th>3</th>\n",
       "      <td>2022-06-04</td>\n",
       "      <td>08:41:23</td>\n",
       "    </tr>\n",
       "    <tr>\n",
       "      <th>4</th>\n",
       "      <td>2019-05-04</td>\n",
       "      <td>13:38:45</td>\n",
       "    </tr>\n",
       "  </tbody>\n",
       "</table>\n",
       "</div>"
      ]
     },
     "execution_count": 33,
     "metadata": {},
     "output_type": "execute_result"
    }
   ],
   "execution_count": 33
  },
  {
   "metadata": {},
   "cell_type": "markdown",
   "source": "# 🔍 Verificar valores inválidos (NaT) nos campos 'data' e 'hora'\n",
   "id": "b40695d8c5bfc5de"
  },
  {
   "metadata": {
    "ExecuteTime": {
     "end_time": "2025-04-21T20:40:11.949603Z",
     "start_time": "2025-04-21T20:40:09.861102Z"
    }
   },
   "cell_type": "code",
   "source": [
    "# Reconvertendo os campos para datetime para validação\n",
    "data_invalidas = pd.to_datetime(df['data'], errors='coerce', format='%Y-%m-%d').isna()\n",
    "hora_invalidas = pd.to_datetime(df['hora'], errors='coerce', format='%H:%M:%S').isna()\n",
    "\n",
    "# Total de valores inválidos\n",
    "print(\"📅 Datas inválidas:\", data_invalidas.sum())\n",
    "print(\"⏰ Horas inválidas:\", hora_invalidas.sum())\n",
    "\n",
    "# (Opcional) Exibir algumas linhas com problemas\n",
    "df[data_invalidas | hora_invalidas][['data', 'hora']].head(10)\n"
   ],
   "id": "a8a2b435428f2184",
   "outputs": [
    {
     "name": "stdout",
     "output_type": "stream",
     "text": [
      "📅 Datas inválidas: 0\n",
      "⏰ Horas inválidas: 0\n"
     ]
    },
    {
     "data": {
      "text/plain": [
       "Empty DataFrame\n",
       "Columns: [data, hora]\n",
       "Index: []"
      ],
      "text/html": [
       "<div>\n",
       "<style scoped>\n",
       "    .dataframe tbody tr th:only-of-type {\n",
       "        vertical-align: middle;\n",
       "    }\n",
       "\n",
       "    .dataframe tbody tr th {\n",
       "        vertical-align: top;\n",
       "    }\n",
       "\n",
       "    .dataframe thead th {\n",
       "        text-align: right;\n",
       "    }\n",
       "</style>\n",
       "<table border=\"1\" class=\"dataframe\">\n",
       "  <thead>\n",
       "    <tr style=\"text-align: right;\">\n",
       "      <th></th>\n",
       "      <th>data</th>\n",
       "      <th>hora</th>\n",
       "    </tr>\n",
       "  </thead>\n",
       "  <tbody>\n",
       "  </tbody>\n",
       "</table>\n",
       "</div>"
      ]
     },
     "execution_count": 34,
     "metadata": {},
     "output_type": "execute_result"
    }
   ],
   "execution_count": 34
  },
  {
   "metadata": {},
   "cell_type": "markdown",
   "source": [
    "## 👤 Verificação da coluna `cliente`\n",
    "\n",
    "Nesta etapa, vamos verificar possíveis problemas com os dados de clientes, como:\n",
    "- Valores nulos ou vazios\n",
    "- Espaços desnecessários\n",
    "- Inconsistências de formatação (maiúsculas/minúsculas)\n",
    "- Registros inválidos ou muito curtos\n"
   ],
   "id": "9b0063b57a5b994b"
  },
  {
   "metadata": {
    "ExecuteTime": {
     "end_time": "2025-04-21T20:40:12.526141Z",
     "start_time": "2025-04-21T20:40:12.113956Z"
    }
   },
   "cell_type": "code",
   "source": [
    "# Remover espaços desnecessários\n",
    "df['cliente'] = df['cliente'].astype(str).str.strip()\n",
    "\n",
    "# Verificar valores nulos ou vazios\n",
    "clientes_nulos = df['cliente'].isna() | (df['cliente'] == '')\n",
    "print(\"👤 Clientes vazios ou nulos:\", clientes_nulos.sum())\n",
    "\n",
    "# Verificar nomes curtos (com 2 ou menos caracteres)\n",
    "clientes_curto = df['cliente'].str.len() <= 2\n",
    "print(\"👤 Clientes com nomes muito curtos (<= 2 caracteres):\", clientes_curto.sum())\n",
    "\n",
    "# Exibir amostra de possíveis problemas\n",
    "df[clientes_nulos | clientes_curto]['cliente'].value_counts().head(10)\n"
   ],
   "id": "bd384b25ac47e10b",
   "outputs": [
    {
     "name": "stdout",
     "output_type": "stream",
     "text": [
      "👤 Clientes vazios ou nulos: 0\n",
      "👤 Clientes com nomes muito curtos (<= 2 caracteres): 0\n"
     ]
    },
    {
     "data": {
      "text/plain": [
       "Series([], Name: count, dtype: int64)"
      ]
     },
     "execution_count": 35,
     "metadata": {},
     "output_type": "execute_result"
    }
   ],
   "execution_count": 35
  },
  {
   "metadata": {},
   "cell_type": "markdown",
   "source": [
    "## 🔍 Verificação adicional e normalização de nomes de clientes\n",
    "\n",
    "Agora, vamos verificar possíveis problemas adicionais, como espaços extras, inconsistências na capitalização e duplicatas. Em seguida, vamos normalizar todos os nomes para **letras maiúsculas**.\n"
   ],
   "id": "d8dff7664dfaf3a1"
  },
  {
   "metadata": {
    "ExecuteTime": {
     "end_time": "2025-04-21T20:40:13.344533Z",
     "start_time": "2025-04-21T20:40:12.559877Z"
    }
   },
   "cell_type": "code",
   "source": [
    "# Remover espaços extras (início e fim)\n",
    "df['cliente'] = df['cliente'].str.strip()\n",
    "\n",
    "# Normalizar para maiúsculas\n",
    "df['cliente'] = df['cliente'].str.upper()\n",
    "\n",
    "# Verificar se há nomes com números ou símbolos (considerando nomes válidos)\n",
    "# Vamos filtrar apenas se contiver números ou caracteres não alfabéticos\n",
    "clientes_invalidos = df['cliente'].str.contains(r'[^A-Z\\sÇÁÉÍÓÚãâãáà]', regex=True)\n",
    "\n",
    "print(\"🚨 Clientes com caracteres inválidos:\", clientes_invalidos.sum())\n",
    "\n",
    "# Exibir amostra de clientes inválidos\n",
    "df[clientes_invalidos]['cliente'].drop_duplicates().head(10)\n",
    "\n",
    "# Verificar duplicatas\n",
    "duplicatas = df['cliente'].duplicated().sum()\n",
    "print(f\"🔁 Total de clientes duplicados: {duplicatas}\")\n"
   ],
   "id": "abec235ec417380b",
   "outputs": [
    {
     "name": "stdout",
     "output_type": "stream",
     "text": [
      "🚨 Clientes com caracteres inválidos: 53132\n",
      "🔁 Total de clientes duplicados: 368104\n"
     ]
    }
   ],
   "execution_count": 36
  },
  {
   "metadata": {
    "ExecuteTime": {
     "end_time": "2025-04-21T20:40:14.046405Z",
     "start_time": "2025-04-21T20:40:13.384488Z"
    }
   },
   "cell_type": "code",
   "source": [
    "# Verificar se há registros idênticos (mesmo cliente, mesmo produto, mesma data e hora)\n",
    "duplicatas_identicas = df.duplicated(subset=['cliente', 'produto', 'data', 'hora'], keep=False)\n",
    "print(f\"🚨 Total de registros idênticos (mesmo cliente, produto e data/hora): {duplicatas_identicas.sum()}\")\n",
    "\n",
    "# Exibir registros idênticos\n",
    "df[duplicatas_identicas].head(20)\n"
   ],
   "id": "5eef474563264ef5",
   "outputs": [
    {
     "name": "stdout",
     "output_type": "stream",
     "text": [
      "🚨 Total de registros idênticos (mesmo cliente, produto e data/hora): 136359\n"
     ]
    },
    {
     "data": {
      "text/plain": [
       "    id_da_compra        data      hora                           cliente  \\\n",
       "0          13679  2021-03-20  23:35:51                 LUCAS ARAUJO KUHN   \n",
       "1          28070  2020-10-30  09:00:53              MICAEL SOUZA RONCETE   \n",
       "4          47123  2019-05-04  13:38:45       GABRIEL MATOS LIMA DA CUNHA   \n",
       "5          38623  2018-02-19  17:32:01       LUCAS ANTÔNIO DE SOUZA NETO   \n",
       "9          10575  2018-10-01  18:36:45         HENRICO DA CUNHA TEIXEIRA   \n",
       "10         43813  2021-06-04  21:07:04         PEDRO MATOS LIMA DA CUNHA   \n",
       "12         10784  2020-07-03  22:34:21               MATEUS VICTOR ALVES   \n",
       "13          1271  2021-04-18  10:56:01       CARLOS ASSIS NOGUEIRA SILVA   \n",
       "15          5650  2021-06-11  14:18:25          VICTOR DA CUNHA TEIXEIRA   \n",
       "17         24847  2022-06-23  12:15:47  THIAGO LACERDA PORTUGAL DA SILVA   \n",
       "18         12051  2020-07-23  15:37:50            ARTHUR FELIPE DE SOUZA   \n",
       "20          7646  2019-03-09  16:49:49             JOÃO SILVINO DA SILVA   \n",
       "29         10768  2020-01-02  09:20:41             VICTOR MURATORI DUTRA   \n",
       "31         24476  2020-12-06  04:03:16  THIAGO ANTÔNIO DE DECCO OLIVEIRA   \n",
       "32         48810  2020-12-28  14:17:22  MATEUS ANTÔNIO DE DECCO OLIVEIRA   \n",
       "35         43002  2021-01-20  15:11:26         FELIPE DA SILVA BIANQUINI   \n",
       "36         13465  2020-01-04  13:31:19        MATHEUS GONÇALVES DONADONI   \n",
       "37         37102  2020-08-02  10:32:27             JOÃO SILVINO DA SILVA   \n",
       "39         30509  2022-12-09  21:51:13        GUILHERME CASTILHO CARDOSO   \n",
       "41         26966  2019-03-05  18:50:53                VICTOR SILVA RAMOS   \n",
       "\n",
       "             produto     valor  quantidade   total                status  \\\n",
       "0   Queijo Mussarela  R$ 16,87          13  239.31  Pagamento Confirmado   \n",
       "1    Molho de Tomate   R$ 3,25           3    9.75  Pagamento Confirmado   \n",
       "4               Café   R$ 9,48           2   18.96        Em SeparaÃ§Ã£o   \n",
       "5               Café  R$ 10,16           1   20.16  Entregue com Sucesso   \n",
       "9           Sabonete   R$ 1,25           2   13.00        Em SeparaÃ§Ã£o   \n",
       "10            Açúcar   R$ 3,59           1    3.59  Aguardando Pagamento   \n",
       "12          Manteiga   R$ 6,61           8   71.88         Em Transporte   \n",
       "13   Papel Higiênico   R$ 3,89          12   46.68        Em SeparaÃ§Ã£o   \n",
       "15              Café   R$ 5,29           1    5.29        Em SeparaÃ§Ã£o   \n",
       "17            Açúcar   R$ 3,75           3   24.25        Em SeparaÃ§Ã£o   \n",
       "18              Café   R$ 9,45           3   28.35                    AP   \n",
       "20              Café   R$ 5,45           2   10.90        Em SeparaÃ§Ã£o   \n",
       "29      Óleo de Soja   R$ 3,75          10   37.50  Aguardando Pagamento   \n",
       "31            Açúcar   R$ 3,59           1   13.59  Pagamento Confirmado   \n",
       "32            Açúcar   R$ 2,78           3    8.34  Pagamento Confirmado   \n",
       "35             Vinho  R$ 33,33           6  219.98  Aguardando Pagamento   \n",
       "36    Pasta de Dente   R$ 2,79          12   41.48        Em SeparaÃ§Ã£o   \n",
       "37           Shampoo   R$ 7,65          12   91.80        Em SeparaÃ§Ã£o   \n",
       "39            Açúcar   R$ 2,92           2    5.84        Em SeparaÃ§Ã£o   \n",
       "41            Açúcar   R$ 3,13           7   21.91                    AP   \n",
       "\n",
       "                   cidade estado    pais        cep  frete  \\\n",
       "0                 Niterói     RJ  Brasil  24000-000   20.0   \n",
       "1                 Mariana     MG  Brasil  35420-000    0.0   \n",
       "4    Conselheiro Lafaiete     MG  Brasil  36400-000    0.0   \n",
       "5           Resende Costa     MG  Brasil  36340-000   10.0   \n",
       "9        São João del-Rei     MG  Brasil  36300-000   10.5   \n",
       "10            São Gonçalo     RJ  Brasil  24400-000    0.0   \n",
       "12        Duque de Caxias     RJ  Brasil  25000-000   19.0   \n",
       "13                  Macaé     RJ  Brasil  27900-000    0.0   \n",
       "15                 Viçosa     MG  Brasil  36570-000    0.0   \n",
       "17           Juiz de Fora     MG  Brasil  36000-000   13.0   \n",
       "18              Guarulhos     SP  Brasil  07000-000    0.0   \n",
       "20               Campinas     SP  Brasil  13000-000    0.0   \n",
       "29                 Muriaé     MG  Brasil  36880-000    0.0   \n",
       "31         Matias Barbosa     MG  Brasil  36120-000   10.0   \n",
       "32             Petrópolis     RJ  Brasil  25600-000    0.0   \n",
       "35  Campos dos Goytacazes     RJ  Brasil  28000-000   20.0   \n",
       "36                 Prados     MG  Brasil  36320-000    8.0   \n",
       "37                 Viçosa     MG  Brasil  36570-000    0.0   \n",
       "39                  Bicas     MG  Brasil  36600-000    0.0   \n",
       "41        Duque de Caxias     RJ  Brasil  25000-000    0.0   \n",
       "\n",
       "                 pagamento                            vendedor         marca  \n",
       "0        Cartão de Crédito             SAMUEL HENRIQUE CAÇADOR  Porto Alegre  \n",
       "1                      Pix  MICAEL MALAQUIAS DE SOUZA OLIVEIRA        Fugini  \n",
       "4        Cartão de Crédito         HENRICO MATOS LIMA DA CUNHA    3 Corações  \n",
       "5   Transferência Bancária           VICTOR GONÇALVES DONADONI    3 Corações  \n",
       "9                   Boleto           GABRIEL QUEIROZ DE AGUIAR          Dove  \n",
       "10  Transferência Bancária             SAMUEL HENRIQUE CAÇADOR     Caravelas  \n",
       "12             Pix à Vista             SAMUEL HENRIQUE CAÇADOR        Itambé  \n",
       "13  Transferência Bancária  MICAEL MALAQUIAS DE SOUZA OLIVEIRA          Neve  \n",
       "15  Transferência Bancária  MICAEL MALAQUIAS DE SOUZA OLIVEIRA    3 Corações  \n",
       "17  Transferência Bancária             SAMUEL HENRIQUE CAÇADOR     Caravelas  \n",
       "18                  Boleto                HENRICO VICTOR ALVES    3 Corações  \n",
       "20       Cartão de Crédito           VICTOR GONÇALVES DONADONI         Pilão  \n",
       "29  Transferência Bancária            CARLOS QUEIROZ DE AGUIAR         Coamo  \n",
       "31                     Pix                HENRICO VICTOR ALVES     Caravelas  \n",
       "32  Transferência Bancária                 PAULO SOUZA RONCETE         União  \n",
       "35   Pagamento Instantâneo            CARLOS QUEIROZ DE AGUIAR         Miolo  \n",
       "36                     Pix           GABRIEL QUEIROZ DE AGUIAR        Oral-B  \n",
       "37       Cartão de Crédito           GABRIEL QUEIROZ DE AGUIAR       Pantene  \n",
       "39       Cartão de Crédito                 PAULO SOUZA RONCETE     Itamarati  \n",
       "41  Transferência Bancária  MICAEL MALAQUIAS DE SOUZA OLIVEIRA         União  "
      ],
      "text/html": [
       "<div>\n",
       "<style scoped>\n",
       "    .dataframe tbody tr th:only-of-type {\n",
       "        vertical-align: middle;\n",
       "    }\n",
       "\n",
       "    .dataframe tbody tr th {\n",
       "        vertical-align: top;\n",
       "    }\n",
       "\n",
       "    .dataframe thead th {\n",
       "        text-align: right;\n",
       "    }\n",
       "</style>\n",
       "<table border=\"1\" class=\"dataframe\">\n",
       "  <thead>\n",
       "    <tr style=\"text-align: right;\">\n",
       "      <th></th>\n",
       "      <th>id_da_compra</th>\n",
       "      <th>data</th>\n",
       "      <th>hora</th>\n",
       "      <th>cliente</th>\n",
       "      <th>produto</th>\n",
       "      <th>valor</th>\n",
       "      <th>quantidade</th>\n",
       "      <th>total</th>\n",
       "      <th>status</th>\n",
       "      <th>cidade</th>\n",
       "      <th>estado</th>\n",
       "      <th>pais</th>\n",
       "      <th>cep</th>\n",
       "      <th>frete</th>\n",
       "      <th>pagamento</th>\n",
       "      <th>vendedor</th>\n",
       "      <th>marca</th>\n",
       "    </tr>\n",
       "  </thead>\n",
       "  <tbody>\n",
       "    <tr>\n",
       "      <th>0</th>\n",
       "      <td>13679</td>\n",
       "      <td>2021-03-20</td>\n",
       "      <td>23:35:51</td>\n",
       "      <td>LUCAS ARAUJO KUHN</td>\n",
       "      <td>Queijo Mussarela</td>\n",
       "      <td>R$ 16,87</td>\n",
       "      <td>13</td>\n",
       "      <td>239.31</td>\n",
       "      <td>Pagamento Confirmado</td>\n",
       "      <td>Niterói</td>\n",
       "      <td>RJ</td>\n",
       "      <td>Brasil</td>\n",
       "      <td>24000-000</td>\n",
       "      <td>20.0</td>\n",
       "      <td>Cartão de Crédito</td>\n",
       "      <td>SAMUEL HENRIQUE CAÇADOR</td>\n",
       "      <td>Porto Alegre</td>\n",
       "    </tr>\n",
       "    <tr>\n",
       "      <th>1</th>\n",
       "      <td>28070</td>\n",
       "      <td>2020-10-30</td>\n",
       "      <td>09:00:53</td>\n",
       "      <td>MICAEL SOUZA RONCETE</td>\n",
       "      <td>Molho de Tomate</td>\n",
       "      <td>R$ 3,25</td>\n",
       "      <td>3</td>\n",
       "      <td>9.75</td>\n",
       "      <td>Pagamento Confirmado</td>\n",
       "      <td>Mariana</td>\n",
       "      <td>MG</td>\n",
       "      <td>Brasil</td>\n",
       "      <td>35420-000</td>\n",
       "      <td>0.0</td>\n",
       "      <td>Pix</td>\n",
       "      <td>MICAEL MALAQUIAS DE SOUZA OLIVEIRA</td>\n",
       "      <td>Fugini</td>\n",
       "    </tr>\n",
       "    <tr>\n",
       "      <th>4</th>\n",
       "      <td>47123</td>\n",
       "      <td>2019-05-04</td>\n",
       "      <td>13:38:45</td>\n",
       "      <td>GABRIEL MATOS LIMA DA CUNHA</td>\n",
       "      <td>Café</td>\n",
       "      <td>R$ 9,48</td>\n",
       "      <td>2</td>\n",
       "      <td>18.96</td>\n",
       "      <td>Em SeparaÃ§Ã£o</td>\n",
       "      <td>Conselheiro Lafaiete</td>\n",
       "      <td>MG</td>\n",
       "      <td>Brasil</td>\n",
       "      <td>36400-000</td>\n",
       "      <td>0.0</td>\n",
       "      <td>Cartão de Crédito</td>\n",
       "      <td>HENRICO MATOS LIMA DA CUNHA</td>\n",
       "      <td>3 Corações</td>\n",
       "    </tr>\n",
       "    <tr>\n",
       "      <th>5</th>\n",
       "      <td>38623</td>\n",
       "      <td>2018-02-19</td>\n",
       "      <td>17:32:01</td>\n",
       "      <td>LUCAS ANTÔNIO DE SOUZA NETO</td>\n",
       "      <td>Café</td>\n",
       "      <td>R$ 10,16</td>\n",
       "      <td>1</td>\n",
       "      <td>20.16</td>\n",
       "      <td>Entregue com Sucesso</td>\n",
       "      <td>Resende Costa</td>\n",
       "      <td>MG</td>\n",
       "      <td>Brasil</td>\n",
       "      <td>36340-000</td>\n",
       "      <td>10.0</td>\n",
       "      <td>Transferência Bancária</td>\n",
       "      <td>VICTOR GONÇALVES DONADONI</td>\n",
       "      <td>3 Corações</td>\n",
       "    </tr>\n",
       "    <tr>\n",
       "      <th>9</th>\n",
       "      <td>10575</td>\n",
       "      <td>2018-10-01</td>\n",
       "      <td>18:36:45</td>\n",
       "      <td>HENRICO DA CUNHA TEIXEIRA</td>\n",
       "      <td>Sabonete</td>\n",
       "      <td>R$ 1,25</td>\n",
       "      <td>2</td>\n",
       "      <td>13.00</td>\n",
       "      <td>Em SeparaÃ§Ã£o</td>\n",
       "      <td>São João del-Rei</td>\n",
       "      <td>MG</td>\n",
       "      <td>Brasil</td>\n",
       "      <td>36300-000</td>\n",
       "      <td>10.5</td>\n",
       "      <td>Boleto</td>\n",
       "      <td>GABRIEL QUEIROZ DE AGUIAR</td>\n",
       "      <td>Dove</td>\n",
       "    </tr>\n",
       "    <tr>\n",
       "      <th>10</th>\n",
       "      <td>43813</td>\n",
       "      <td>2021-06-04</td>\n",
       "      <td>21:07:04</td>\n",
       "      <td>PEDRO MATOS LIMA DA CUNHA</td>\n",
       "      <td>Açúcar</td>\n",
       "      <td>R$ 3,59</td>\n",
       "      <td>1</td>\n",
       "      <td>3.59</td>\n",
       "      <td>Aguardando Pagamento</td>\n",
       "      <td>São Gonçalo</td>\n",
       "      <td>RJ</td>\n",
       "      <td>Brasil</td>\n",
       "      <td>24400-000</td>\n",
       "      <td>0.0</td>\n",
       "      <td>Transferência Bancária</td>\n",
       "      <td>SAMUEL HENRIQUE CAÇADOR</td>\n",
       "      <td>Caravelas</td>\n",
       "    </tr>\n",
       "    <tr>\n",
       "      <th>12</th>\n",
       "      <td>10784</td>\n",
       "      <td>2020-07-03</td>\n",
       "      <td>22:34:21</td>\n",
       "      <td>MATEUS VICTOR ALVES</td>\n",
       "      <td>Manteiga</td>\n",
       "      <td>R$ 6,61</td>\n",
       "      <td>8</td>\n",
       "      <td>71.88</td>\n",
       "      <td>Em Transporte</td>\n",
       "      <td>Duque de Caxias</td>\n",
       "      <td>RJ</td>\n",
       "      <td>Brasil</td>\n",
       "      <td>25000-000</td>\n",
       "      <td>19.0</td>\n",
       "      <td>Pix à Vista</td>\n",
       "      <td>SAMUEL HENRIQUE CAÇADOR</td>\n",
       "      <td>Itambé</td>\n",
       "    </tr>\n",
       "    <tr>\n",
       "      <th>13</th>\n",
       "      <td>1271</td>\n",
       "      <td>2021-04-18</td>\n",
       "      <td>10:56:01</td>\n",
       "      <td>CARLOS ASSIS NOGUEIRA SILVA</td>\n",
       "      <td>Papel Higiênico</td>\n",
       "      <td>R$ 3,89</td>\n",
       "      <td>12</td>\n",
       "      <td>46.68</td>\n",
       "      <td>Em SeparaÃ§Ã£o</td>\n",
       "      <td>Macaé</td>\n",
       "      <td>RJ</td>\n",
       "      <td>Brasil</td>\n",
       "      <td>27900-000</td>\n",
       "      <td>0.0</td>\n",
       "      <td>Transferência Bancária</td>\n",
       "      <td>MICAEL MALAQUIAS DE SOUZA OLIVEIRA</td>\n",
       "      <td>Neve</td>\n",
       "    </tr>\n",
       "    <tr>\n",
       "      <th>15</th>\n",
       "      <td>5650</td>\n",
       "      <td>2021-06-11</td>\n",
       "      <td>14:18:25</td>\n",
       "      <td>VICTOR DA CUNHA TEIXEIRA</td>\n",
       "      <td>Café</td>\n",
       "      <td>R$ 5,29</td>\n",
       "      <td>1</td>\n",
       "      <td>5.29</td>\n",
       "      <td>Em SeparaÃ§Ã£o</td>\n",
       "      <td>Viçosa</td>\n",
       "      <td>MG</td>\n",
       "      <td>Brasil</td>\n",
       "      <td>36570-000</td>\n",
       "      <td>0.0</td>\n",
       "      <td>Transferência Bancária</td>\n",
       "      <td>MICAEL MALAQUIAS DE SOUZA OLIVEIRA</td>\n",
       "      <td>3 Corações</td>\n",
       "    </tr>\n",
       "    <tr>\n",
       "      <th>17</th>\n",
       "      <td>24847</td>\n",
       "      <td>2022-06-23</td>\n",
       "      <td>12:15:47</td>\n",
       "      <td>THIAGO LACERDA PORTUGAL DA SILVA</td>\n",
       "      <td>Açúcar</td>\n",
       "      <td>R$ 3,75</td>\n",
       "      <td>3</td>\n",
       "      <td>24.25</td>\n",
       "      <td>Em SeparaÃ§Ã£o</td>\n",
       "      <td>Juiz de Fora</td>\n",
       "      <td>MG</td>\n",
       "      <td>Brasil</td>\n",
       "      <td>36000-000</td>\n",
       "      <td>13.0</td>\n",
       "      <td>Transferência Bancária</td>\n",
       "      <td>SAMUEL HENRIQUE CAÇADOR</td>\n",
       "      <td>Caravelas</td>\n",
       "    </tr>\n",
       "    <tr>\n",
       "      <th>18</th>\n",
       "      <td>12051</td>\n",
       "      <td>2020-07-23</td>\n",
       "      <td>15:37:50</td>\n",
       "      <td>ARTHUR FELIPE DE SOUZA</td>\n",
       "      <td>Café</td>\n",
       "      <td>R$ 9,45</td>\n",
       "      <td>3</td>\n",
       "      <td>28.35</td>\n",
       "      <td>AP</td>\n",
       "      <td>Guarulhos</td>\n",
       "      <td>SP</td>\n",
       "      <td>Brasil</td>\n",
       "      <td>07000-000</td>\n",
       "      <td>0.0</td>\n",
       "      <td>Boleto</td>\n",
       "      <td>HENRICO VICTOR ALVES</td>\n",
       "      <td>3 Corações</td>\n",
       "    </tr>\n",
       "    <tr>\n",
       "      <th>20</th>\n",
       "      <td>7646</td>\n",
       "      <td>2019-03-09</td>\n",
       "      <td>16:49:49</td>\n",
       "      <td>JOÃO SILVINO DA SILVA</td>\n",
       "      <td>Café</td>\n",
       "      <td>R$ 5,45</td>\n",
       "      <td>2</td>\n",
       "      <td>10.90</td>\n",
       "      <td>Em SeparaÃ§Ã£o</td>\n",
       "      <td>Campinas</td>\n",
       "      <td>SP</td>\n",
       "      <td>Brasil</td>\n",
       "      <td>13000-000</td>\n",
       "      <td>0.0</td>\n",
       "      <td>Cartão de Crédito</td>\n",
       "      <td>VICTOR GONÇALVES DONADONI</td>\n",
       "      <td>Pilão</td>\n",
       "    </tr>\n",
       "    <tr>\n",
       "      <th>29</th>\n",
       "      <td>10768</td>\n",
       "      <td>2020-01-02</td>\n",
       "      <td>09:20:41</td>\n",
       "      <td>VICTOR MURATORI DUTRA</td>\n",
       "      <td>Óleo de Soja</td>\n",
       "      <td>R$ 3,75</td>\n",
       "      <td>10</td>\n",
       "      <td>37.50</td>\n",
       "      <td>Aguardando Pagamento</td>\n",
       "      <td>Muriaé</td>\n",
       "      <td>MG</td>\n",
       "      <td>Brasil</td>\n",
       "      <td>36880-000</td>\n",
       "      <td>0.0</td>\n",
       "      <td>Transferência Bancária</td>\n",
       "      <td>CARLOS QUEIROZ DE AGUIAR</td>\n",
       "      <td>Coamo</td>\n",
       "    </tr>\n",
       "    <tr>\n",
       "      <th>31</th>\n",
       "      <td>24476</td>\n",
       "      <td>2020-12-06</td>\n",
       "      <td>04:03:16</td>\n",
       "      <td>THIAGO ANTÔNIO DE DECCO OLIVEIRA</td>\n",
       "      <td>Açúcar</td>\n",
       "      <td>R$ 3,59</td>\n",
       "      <td>1</td>\n",
       "      <td>13.59</td>\n",
       "      <td>Pagamento Confirmado</td>\n",
       "      <td>Matias Barbosa</td>\n",
       "      <td>MG</td>\n",
       "      <td>Brasil</td>\n",
       "      <td>36120-000</td>\n",
       "      <td>10.0</td>\n",
       "      <td>Pix</td>\n",
       "      <td>HENRICO VICTOR ALVES</td>\n",
       "      <td>Caravelas</td>\n",
       "    </tr>\n",
       "    <tr>\n",
       "      <th>32</th>\n",
       "      <td>48810</td>\n",
       "      <td>2020-12-28</td>\n",
       "      <td>14:17:22</td>\n",
       "      <td>MATEUS ANTÔNIO DE DECCO OLIVEIRA</td>\n",
       "      <td>Açúcar</td>\n",
       "      <td>R$ 2,78</td>\n",
       "      <td>3</td>\n",
       "      <td>8.34</td>\n",
       "      <td>Pagamento Confirmado</td>\n",
       "      <td>Petrópolis</td>\n",
       "      <td>RJ</td>\n",
       "      <td>Brasil</td>\n",
       "      <td>25600-000</td>\n",
       "      <td>0.0</td>\n",
       "      <td>Transferência Bancária</td>\n",
       "      <td>PAULO SOUZA RONCETE</td>\n",
       "      <td>União</td>\n",
       "    </tr>\n",
       "    <tr>\n",
       "      <th>35</th>\n",
       "      <td>43002</td>\n",
       "      <td>2021-01-20</td>\n",
       "      <td>15:11:26</td>\n",
       "      <td>FELIPE DA SILVA BIANQUINI</td>\n",
       "      <td>Vinho</td>\n",
       "      <td>R$ 33,33</td>\n",
       "      <td>6</td>\n",
       "      <td>219.98</td>\n",
       "      <td>Aguardando Pagamento</td>\n",
       "      <td>Campos dos Goytacazes</td>\n",
       "      <td>RJ</td>\n",
       "      <td>Brasil</td>\n",
       "      <td>28000-000</td>\n",
       "      <td>20.0</td>\n",
       "      <td>Pagamento Instantâneo</td>\n",
       "      <td>CARLOS QUEIROZ DE AGUIAR</td>\n",
       "      <td>Miolo</td>\n",
       "    </tr>\n",
       "    <tr>\n",
       "      <th>36</th>\n",
       "      <td>13465</td>\n",
       "      <td>2020-01-04</td>\n",
       "      <td>13:31:19</td>\n",
       "      <td>MATHEUS GONÇALVES DONADONI</td>\n",
       "      <td>Pasta de Dente</td>\n",
       "      <td>R$ 2,79</td>\n",
       "      <td>12</td>\n",
       "      <td>41.48</td>\n",
       "      <td>Em SeparaÃ§Ã£o</td>\n",
       "      <td>Prados</td>\n",
       "      <td>MG</td>\n",
       "      <td>Brasil</td>\n",
       "      <td>36320-000</td>\n",
       "      <td>8.0</td>\n",
       "      <td>Pix</td>\n",
       "      <td>GABRIEL QUEIROZ DE AGUIAR</td>\n",
       "      <td>Oral-B</td>\n",
       "    </tr>\n",
       "    <tr>\n",
       "      <th>37</th>\n",
       "      <td>37102</td>\n",
       "      <td>2020-08-02</td>\n",
       "      <td>10:32:27</td>\n",
       "      <td>JOÃO SILVINO DA SILVA</td>\n",
       "      <td>Shampoo</td>\n",
       "      <td>R$ 7,65</td>\n",
       "      <td>12</td>\n",
       "      <td>91.80</td>\n",
       "      <td>Em SeparaÃ§Ã£o</td>\n",
       "      <td>Viçosa</td>\n",
       "      <td>MG</td>\n",
       "      <td>Brasil</td>\n",
       "      <td>36570-000</td>\n",
       "      <td>0.0</td>\n",
       "      <td>Cartão de Crédito</td>\n",
       "      <td>GABRIEL QUEIROZ DE AGUIAR</td>\n",
       "      <td>Pantene</td>\n",
       "    </tr>\n",
       "    <tr>\n",
       "      <th>39</th>\n",
       "      <td>30509</td>\n",
       "      <td>2022-12-09</td>\n",
       "      <td>21:51:13</td>\n",
       "      <td>GUILHERME CASTILHO CARDOSO</td>\n",
       "      <td>Açúcar</td>\n",
       "      <td>R$ 2,92</td>\n",
       "      <td>2</td>\n",
       "      <td>5.84</td>\n",
       "      <td>Em SeparaÃ§Ã£o</td>\n",
       "      <td>Bicas</td>\n",
       "      <td>MG</td>\n",
       "      <td>Brasil</td>\n",
       "      <td>36600-000</td>\n",
       "      <td>0.0</td>\n",
       "      <td>Cartão de Crédito</td>\n",
       "      <td>PAULO SOUZA RONCETE</td>\n",
       "      <td>Itamarati</td>\n",
       "    </tr>\n",
       "    <tr>\n",
       "      <th>41</th>\n",
       "      <td>26966</td>\n",
       "      <td>2019-03-05</td>\n",
       "      <td>18:50:53</td>\n",
       "      <td>VICTOR SILVA RAMOS</td>\n",
       "      <td>Açúcar</td>\n",
       "      <td>R$ 3,13</td>\n",
       "      <td>7</td>\n",
       "      <td>21.91</td>\n",
       "      <td>AP</td>\n",
       "      <td>Duque de Caxias</td>\n",
       "      <td>RJ</td>\n",
       "      <td>Brasil</td>\n",
       "      <td>25000-000</td>\n",
       "      <td>0.0</td>\n",
       "      <td>Transferência Bancária</td>\n",
       "      <td>MICAEL MALAQUIAS DE SOUZA OLIVEIRA</td>\n",
       "      <td>União</td>\n",
       "    </tr>\n",
       "  </tbody>\n",
       "</table>\n",
       "</div>"
      ]
     },
     "execution_count": 37,
     "metadata": {},
     "output_type": "execute_result"
    }
   ],
   "execution_count": 37
  },
  {
   "metadata": {
    "ExecuteTime": {
     "end_time": "2025-04-21T20:40:14.498948Z",
     "start_time": "2025-04-21T20:40:14.246795Z"
    }
   },
   "cell_type": "code",
   "source": [
    "# Convertendo todos os nomes para maiúsculas\n",
    "df['cliente'] = df['cliente'].str.upper()\n"
   ],
   "id": "82afd59c5ec65447",
   "outputs": [],
   "execution_count": 38
  },
  {
   "metadata": {},
   "cell_type": "markdown",
   "source": [
    "### 🔢 Verificação de Formato de Valores Monetários\n",
    "\n",
    "Este código verifica se os valores na coluna `valor` estão no formato correto de moeda brasileira: \"R$ 10,23\".\n",
    "\n",
    "**Como funciona:**\n",
    "\n",
    "1. **Expressão Regular**: Utiliza uma regex para garantir que o valor esteja no padrão correto.\n",
    "2. **Filtragem de Valores Inválidos**: Identifica os valores que não seguem o formato esperado.\n",
    "3. **Exibição dos Valores Inválidos**: Mostra os primeiros valores fora do padrão.\n",
    "\n",
    "O objetivo é identificar e corrigir valores que não estão no formato correto.\n"
   ],
   "id": "1a77bafefc152084"
  },
  {
   "metadata": {
    "ExecuteTime": {
     "end_time": "2025-04-21T20:40:17.156642Z",
     "start_time": "2025-04-21T20:40:14.597225Z"
    }
   },
   "cell_type": "code",
   "source": [
    "import re\n",
    "\n",
    "# Remover espaços em branco extras\n",
    "df['valor'] = df['valor'].str.strip()\n",
    "\n",
    "# Criar uma expressão regular para verificar o formato esperado \"R$ xx,xx\"\n",
    "pattern = r\"^R\\$\\s\\d{1,3}(\\.\\d{3})*(,\\d{2})?$\"\n",
    "\n",
    "# Verificar quais valores não estão no formato esperado\n",
    "invalid_values = df[~df['valor'].str.match(pattern, na=False)]\n",
    "\n",
    "# Mostrar os valores inválidos\n",
    "invalid_values[['valor']].head()\n"
   ],
   "id": "e14dfdeca248d075",
   "outputs": [
    {
     "data": {
      "text/plain": [
       "                   valor\n",
       "64  R$ 586,8800000000001\n",
       "72               R$ 14,1\n",
       "73                R$ 2,9\n",
       "82                R$ 2,9\n",
       "92               R$ 14,6"
      ],
      "text/html": [
       "<div>\n",
       "<style scoped>\n",
       "    .dataframe tbody tr th:only-of-type {\n",
       "        vertical-align: middle;\n",
       "    }\n",
       "\n",
       "    .dataframe tbody tr th {\n",
       "        vertical-align: top;\n",
       "    }\n",
       "\n",
       "    .dataframe thead th {\n",
       "        text-align: right;\n",
       "    }\n",
       "</style>\n",
       "<table border=\"1\" class=\"dataframe\">\n",
       "  <thead>\n",
       "    <tr style=\"text-align: right;\">\n",
       "      <th></th>\n",
       "      <th>valor</th>\n",
       "    </tr>\n",
       "  </thead>\n",
       "  <tbody>\n",
       "    <tr>\n",
       "      <th>64</th>\n",
       "      <td>R$ 586,8800000000001</td>\n",
       "    </tr>\n",
       "    <tr>\n",
       "      <th>72</th>\n",
       "      <td>R$ 14,1</td>\n",
       "    </tr>\n",
       "    <tr>\n",
       "      <th>73</th>\n",
       "      <td>R$ 2,9</td>\n",
       "    </tr>\n",
       "    <tr>\n",
       "      <th>82</th>\n",
       "      <td>R$ 2,9</td>\n",
       "    </tr>\n",
       "    <tr>\n",
       "      <th>92</th>\n",
       "      <td>R$ 14,6</td>\n",
       "    </tr>\n",
       "  </tbody>\n",
       "</table>\n",
       "</div>"
      ]
     },
     "execution_count": 39,
     "metadata": {},
     "output_type": "execute_result"
    }
   ],
   "execution_count": 39
  },
  {
   "metadata": {
    "ExecuteTime": {
     "end_time": "2025-04-21T20:40:24.298678Z",
     "start_time": "2025-04-21T20:40:22.987160Z"
    }
   },
   "cell_type": "code",
   "source": [
    "import pandas as pd\n",
    "import numpy as np\n",
    "\n",
    "# Converter a coluna 'valor' para numérico após limpar o formato\n",
    "df['valor'] = pd.to_numeric(\n",
    "    df['valor'].astype(str)\n",
    "        .str.replace(r'R\\$', '', regex=True)\n",
    "        .str.replace(',', '.'),\n",
    "    errors='coerce'\n",
    ")\n",
    "\n",
    "# Verificar e reportar os valores não numéricos\n",
    "valores_nao_numericos = df['valor'].isna().sum()\n",
    "if valores_nao_numericos > 0:\n",
    "    print(f\"🔍 Total de valores não numéricos ou não convertidos: {valores_nao_numericos}\")\n",
    "else:\n",
    "    print(\"✔️ Todos os valores foram convertidos com sucesso para numérico.\")\n",
    "\n",
    "# Cálculo dos quartis e IQR\n",
    "Q1 = df['valor'].quantile(0.25)\n",
    "Q3 = df['valor'].quantile(0.75)\n",
    "IQR = Q3 - Q1\n",
    "\n",
    "# Limites para detecção de outliers\n",
    "limite_inferior = Q1 - 1.5 * IQR\n",
    "limite_superior = Q3 + 1.5 * IQR\n",
    "\n",
    "# Identificar outliers\n",
    "outliers = df[(df['valor'] < limite_inferior) | (df['valor'] > limite_superior)]\n",
    "if not outliers.empty:\n",
    "    print(\"🚨 Outliers encontrados:\")\n",
    "    print(outliers[['valor']].head())\n",
    "else:\n",
    "    print(\"✔️ Nenhum outlier encontrado.\")\n",
    "\n",
    "# Substituir outliers por NaN\n",
    "df.loc[(df['valor'] < limite_inferior) | (df['valor'] > limite_superior), 'valor'] = np.nan\n",
    "\n",
    "# Preencher com a mediana\n",
    "mediana = df['valor'].median()\n",
    "df['valor'] = df['valor'].fillna(mediana)\n",
    "\n",
    "# Exibir resultado final\n",
    "print(\"\\n✔️ Dados tratados (outliers substituídos pela mediana):\")\n",
    "print(df.head())\n",
    "\n",
    "\n"
   ],
   "id": "d9ae6d0ac81a4c8a",
   "outputs": [
    {
     "name": "stdout",
     "output_type": "stream",
     "text": [
      "🔍 Total de valores não numéricos ou não convertidos: 83\n",
      "🚨 Outliers encontrados:\n",
      "     valor\n",
      "23   30.35\n",
      "35   33.33\n",
      "62   23.89\n",
      "64  586.88\n",
      "99  454.57\n",
      "\n",
      "✔️ Dados tratados (outliers substituídos pela mediana):\n",
      "   id_da_compra        data      hora                      cliente  \\\n",
      "0         13679  2021-03-20  23:35:51            LUCAS ARAUJO KUHN   \n",
      "1         28070  2020-10-30  09:00:53         MICAEL SOUZA RONCETE   \n",
      "2         47484  2021-06-09  15:30:28    FELIPE AUGUSTO NERY SILVA   \n",
      "3         20809  2022-06-04  08:41:23          LEVI RIBEIRO AMORIM   \n",
      "4         47123  2019-05-04  13:38:45  GABRIEL MATOS LIMA DA CUNHA   \n",
      "\n",
      "            produto  valor  quantidade   total                status  \\\n",
      "0  Queijo Mussarela  16.87          13  239.31  Pagamento Confirmado   \n",
      "1   Molho de Tomate   3.25           3    9.75  Pagamento Confirmado   \n",
      "2      Água Mineral   1.63           9   36.67  Pagamento Confirmado   \n",
      "3            Carvão   8.74           4   54.96        Em SeparaÃ§Ã£o   \n",
      "4              Café   9.48           2   18.96        Em SeparaÃ§Ã£o   \n",
      "\n",
      "                  cidade estado    pais        cep  frete  \\\n",
      "0                Niterói     RJ  Brasil  24000-000   20.0   \n",
      "1                Mariana     MG  Brasil  35420-000    0.0   \n",
      "2              Cabo Frio     RJ  Brasil  28900-000   22.0   \n",
      "3  Campos dos Goytacazes     RJ  Brasil  28000-000   20.0   \n",
      "4   Conselheiro Lafaiete     MG  Brasil  36400-000    0.0   \n",
      "\n",
      "                pagamento                            vendedor         marca  \n",
      "0       Cartão de Crédito             SAMUEL HENRIQUE CAÇADOR  Porto Alegre  \n",
      "1                     Pix  MICAEL MALAQUIAS DE SOUZA OLIVEIRA        Fugini  \n",
      "2  Transferência Bancária         HENRICO MATOS LIMA DA CUNHA       Minalba  \n",
      "3                     Pix           GABRIEL QUEIROZ DE AGUIAR    Marca-Brás  \n",
      "4       Cartão de Crédito         HENRICO MATOS LIMA DA CUNHA    3 Corações  \n"
     ]
    }
   ],
   "execution_count": 40
  },
  {
   "metadata": {
    "ExecuteTime": {
     "end_time": "2025-04-21T20:40:24.528919Z",
     "start_time": "2025-04-21T20:40:24.525614Z"
    }
   },
   "cell_type": "code",
   "source": "",
   "id": "94df565fa33eb4ce",
   "outputs": [],
   "execution_count": null
  },
  {
   "metadata": {},
   "cell_type": "markdown",
   "source": [
    "### 🧹 Tratamento da Coluna `valor` e Continuidade do Pré-processamento\n",
    "\n",
    "Anteriormente, realizamos um pré-processamento na coluna `valor` para garantir a qualidade e consistência dos dados:\n",
    "\n",
    "- **Conversão de dados**: Transformamos a coluna `valor` de texto para o tipo numérico (`float`), removendo o símbolo `R$` e substituindo vírgulas por pontos para padronizar o formato monetário.\n",
    "- **Detecção e tratamento de outliers**: Identificamos valores atípicos (outliers) usando o método do IQR (Intervalo Interquartílico) e os substituímos pela mediana da coluna para evitar distorções na análise.\n",
    "- **Tratamento de valores ausentes**: Valores não convertidos foram tratados como `NaN` e preenchidos também com a mediana.\n",
    "\n",
    "---\n",
    "\n",
    "Agora, vamos **aplicar o mesmo processo às colunas `quantidade`, `total` e `frete`**, pois essas colunas:\n",
    "\n",
    "- Também devem estar no formato numérico para permitir análises estatísticas e cálculos corretos.\n",
    "- Podem conter outliers que afetam a qualidade dos dados.\n",
    "- Precisam estar consistentes para garantir que o campo `total` obedeça à fórmula esperada:\n",
    "\n",
    "```\n",
    "    total = valor * quantidade + frete\n",
    "```\n",
    "\n",
    "Além disso, vamos verificar se **existem valores ausentes** nessas colunas e definir uma estratégia de tratamento adequada (remoção ou preenchimento por mediana).\n",
    "\n"
   ],
   "id": "c251b12f3db90bcb"
  },
  {
   "metadata": {},
   "cell_type": "markdown",
   "source": [
    "## 📋 Conversão das colunas para float e arredondamento\n",
    "Convertendo as colunas de valor, quantidade, frete e total para float, arredondando com round(2) para padronização."
   ],
   "id": "f5b8659700e9de57"
  },
  {
   "metadata": {
    "ExecuteTime": {
     "end_time": "2025-04-21T20:40:27.726608Z",
     "start_time": "2025-04-21T20:40:24.606767Z"
    }
   },
   "cell_type": "code",
   "source": [
    "# Removendo símbolos e transformando strings numéricas\n",
    "def limpar_valor(col):\n",
    "    return pd.to_numeric(\n",
    "        col.astype(str)\n",
    "           .str.replace(r'R\\$', '', regex=True)\n",
    "           .str.replace(',', '.'),\n",
    "        errors='coerce'\n",
    "    )\n",
    "\n",
    "# Aplicando para as colunas relevantes\n",
    "df['valor'] = limpar_valor(df['valor']).round(2)\n",
    "df['frete'] = limpar_valor(df['frete']).round(2)\n",
    "df['quantidade'] = limpar_valor(df['quantidade']).round(2)\n",
    "df['total'] = limpar_valor(df['total']).round(2)"
   ],
   "id": "8fd21789702cf151",
   "outputs": [],
   "execution_count": 41
  },
  {
   "metadata": {},
   "cell_type": "markdown",
   "source": "## 🧪 Verificando valores faltantes após a conversão",
   "id": "98c5546307070571"
  },
  {
   "metadata": {
    "ExecuteTime": {
     "end_time": "2025-04-21T20:40:27.772103Z",
     "start_time": "2025-04-21T20:40:27.743182Z"
    }
   },
   "cell_type": "code",
   "source": [
    "print(\"Valores nulos por coluna após conversão:\")\n",
    "print(df[['valor', 'frete', 'quantidade', 'total']].isna().sum())\n"
   ],
   "id": "43218942913b32d3",
   "outputs": [
    {
     "name": "stdout",
     "output_type": "stream",
     "text": [
      "Valores nulos por coluna após conversão:\n",
      "valor            0\n",
      "frete         7371\n",
      "quantidade       0\n",
      "total         3685\n",
      "dtype: int64\n"
     ]
    }
   ],
   "execution_count": 42
  },
  {
   "metadata": {},
   "cell_type": "markdown",
   "source": [
    "## 🧹 Tratamento de outliers e negativos no frete\n",
    "Identificando e corrigindo outliers, valores negativos e NaN na coluna frete."
   ],
   "id": "de3fb2b2a2d7d55a"
  },
  {
   "metadata": {
    "ExecuteTime": {
     "end_time": "2025-04-21T20:40:27.863177Z",
     "start_time": "2025-04-21T20:40:27.825888Z"
    }
   },
   "cell_type": "code",
   "source": [
    "# Detectando outliers pelo método IQR\n",
    "Q1 = df['frete'].quantile(0.25)\n",
    "Q3 = df['frete'].quantile(0.75)\n",
    "IQR = Q3 - Q1\n",
    "\n",
    "limite_inferior = Q1 - 1.5 * IQR\n",
    "limite_superior = Q3 + 1.5 * IQR\n",
    "\n",
    "# Criando máscara de valores problemáticos\n",
    "frete_problema = (\n",
    "    (df['frete'] < 0) |\n",
    "    (df['frete'].isna()) |\n",
    "    (df['frete'] < limite_inferior) |\n",
    "    (df['frete'] > limite_superior)\n",
    ")\n",
    "\n",
    "print(f\"Entradas com frete inválido: {frete_problema.sum()}\")\n"
   ],
   "id": "fb6ba31364a2db8c",
   "outputs": [
    {
     "name": "stdout",
     "output_type": "stream",
     "text": [
      "Entradas com frete inválido: 14533\n"
     ]
    }
   ],
   "execution_count": 43
  },
  {
   "metadata": {},
   "cell_type": "markdown",
   "source": [
    "## 🏙️ Agrupando frete mais comum por cidade\n",
    "\n"
   ],
   "id": "3ac04ee2f0661da0"
  },
  {
   "metadata": {
    "ExecuteTime": {
     "end_time": "2025-04-21T20:40:28.202684Z",
     "start_time": "2025-04-21T20:40:27.922742Z"
    }
   },
   "cell_type": "code",
   "source": [
    "# Obter o frete mais comum por cidade (moda)\n",
    "frete_mais_comum = df[~frete_problema].groupby('cidade')['frete'].agg(lambda x: x.mode().iloc[0])\n",
    "print(\"\\nFretes mais comuns por cidade:\")\n",
    "print(frete_mais_comum)\n"
   ],
   "id": "7410b84e3a512e2b",
   "outputs": [
    {
     "name": "stdout",
     "output_type": "stream",
     "text": [
      "\n",
      "Fretes mais comuns por cidade:\n",
      "cidade\n",
      "Angra dos Reis            0.0\n",
      "Astolfo Dutra             0.0\n",
      "Barbacena                12.0\n",
      "Barroso                   0.0\n",
      "Belford Roxo             19.0\n",
      "Belo Horizonte            0.0\n",
      "Bicas                     0.0\n",
      "Cabo Frio                22.0\n",
      "Campinas                  0.0\n",
      "Campos dos Goytacazes     0.0\n",
      "Carandaí                  9.0\n",
      "Cataguases                0.0\n",
      "Congonhas                10.5\n",
      "Conselheiro Lafaiete      0.0\n",
      "Coronel Xavier Chaves     0.0\n",
      "Duque de Caxias           0.0\n",
      "Ewbank da Câmara          0.0\n",
      "Guarulhos                 0.0\n",
      "Itaboraí                  0.0\n",
      "Juiz de Fora             13.0\n",
      "Lagoa Dourada            10.0\n",
      "Leopoldina                0.0\n",
      "Lima Duarte               0.0\n",
      "Macaé                     0.0\n",
      "Magé                     18.0\n",
      "Mariana                   0.0\n",
      "Matias Barbosa           10.0\n",
      "Muriaé                    0.0\n",
      "Niterói                   0.0\n",
      "Nova Iguaçu               0.0\n",
      "Ouro Branco               0.0\n",
      "Ouro Preto               12.5\n",
      "Palma                     0.0\n",
      "Petrópolis                0.0\n",
      "Prados                    8.0\n",
      "Resende Costa            10.0\n",
      "Rio de Janeiro           22.0\n",
      "Ritápolis                 0.0\n",
      "Santana do Garambéu       0.0\n",
      "Santo André               0.0\n",
      "Santos Dumont             0.0\n",
      "Simão Pereira             0.0\n",
      "São Bernardo do Campo     0.0\n",
      "São Gonçalo              20.0\n",
      "São José dos Campos      17.0\n",
      "São João Nepomuceno       0.0\n",
      "São João de Meriti        0.0\n",
      "São João del-Rei          0.0\n",
      "São Paulo                 0.0\n",
      "São Tiago                 0.0\n",
      "São Vicente de Minas      0.0\n",
      "Tiradentes                0.0\n",
      "Tocantins                 8.5\n",
      "Ubá                       0.0\n",
      "Viçosa                    9.0\n",
      "Volta Redonda             0.0\n",
      "Name: frete, dtype: float64\n"
     ]
    }
   ],
   "execution_count": 44
  },
  {
   "metadata": {},
   "cell_type": "markdown",
   "source": "",
   "id": "3e4e0a20e933ce92"
  },
  {
   "metadata": {},
   "cell_type": "markdown",
   "source": "## 🔁 Corrigindo fretes inválidos com base na cidade",
   "id": "22eccd45da0c7a14"
  },
  {
   "metadata": {
    "ExecuteTime": {
     "end_time": "2025-04-21T20:40:35.523304Z",
     "start_time": "2025-04-21T20:40:28.212301Z"
    }
   },
   "cell_type": "code",
   "source": [
    "# Preencher fretes inválidos com a moda por cidade\n",
    "def substituir_frete(row):\n",
    "    if frete_problema.loc[row.name]:\n",
    "        return frete_mais_comum.get(row['cidade'], np.nan)\n",
    "    return row['frete']\n",
    "\n",
    "df['frete'] = df.apply(substituir_frete, axis=1).round(2)\n",
    "\n",
    "print(\"\\n✔️ Fretes corrigidos com base na cidade.\")\n"
   ],
   "id": "84288bfed2c3acb6",
   "outputs": [
    {
     "name": "stdout",
     "output_type": "stream",
     "text": [
      "\n",
      "✔️ Fretes corrigidos com base na cidade.\n"
     ]
    }
   ],
   "execution_count": 45
  },
  {
   "metadata": {},
   "cell_type": "markdown",
   "source": "## 📐 Verificação da fórmula do total: `total = valor * quantidade + frete`\n",
   "id": "6bac82d921bdecf3"
  },
  {
   "metadata": {
    "ExecuteTime": {
     "end_time": "2025-04-21T20:40:36.206377Z",
     "start_time": "2025-04-21T20:40:35.542706Z"
    }
   },
   "cell_type": "code",
   "source": [
    "# Calculando o total teórico\n",
    "df['total_calculado'] = (df['valor'] * df['quantidade'] + df['frete']).round(2)\n",
    "\n",
    "# Verificando divergências\n",
    "inconsistentes = df[df['total'] != df['total_calculado']]\n",
    "print(f\"\\n⚠️ Linhas com total inconsistente: {inconsistentes.shape[0]}\")\n",
    "print(inconsistentes[['valor', 'quantidade', 'frete', 'total', 'total_calculado']].head())\n"
   ],
   "id": "a6ffd39001d1a5ec",
   "outputs": [
    {
     "name": "stdout",
     "output_type": "stream",
     "text": [
      "\n",
      "⚠️ Linhas com total inconsistente: 31922\n",
      "    valor  quantidade  frete   total  total_calculado\n",
      "23   4.01           3    8.5   99.55            20.53\n",
      "35   4.01           6   20.0  219.98            44.06\n",
      "62   4.01           7    0.0  167.23            28.07\n",
      "64   4.01           6    0.0   26.88            24.06\n",
      "73   2.90          13    0.0   48.70            37.70\n"
     ]
    }
   ],
   "execution_count": 46
  },
  {
   "metadata": {},
   "cell_type": "markdown",
   "source": "## 🛠️ Corrigindo valores de `total` com base na fórmula\n",
   "id": "894032cd842cbe14"
  },
  {
   "metadata": {
    "ExecuteTime": {
     "end_time": "2025-04-21T20:40:36.529658Z",
     "start_time": "2025-04-21T20:40:36.258469Z"
    }
   },
   "cell_type": "code",
   "source": [
    "df['total'] = df['total_calculado']\n",
    "df.drop(columns=['total_calculado'], inplace=True)\n",
    "print(\"\\n✔️ Coluna 'total' corrigida com base na fórmula.\")\n"
   ],
   "id": "4728ac027bb1474d",
   "outputs": [
    {
     "name": "stdout",
     "output_type": "stream",
     "text": [
      "\n",
      "✔️ Coluna 'total' corrigida com base na fórmula.\n"
     ]
    }
   ],
   "execution_count": 47
  },
  {
   "metadata": {},
   "cell_type": "markdown",
   "source": [
    "### Limpeza da Coluna `status`\n",
    "\n",
    "Agora, vamos focar na limpeza da coluna `status`. Essa coluna pode conter valores inconsistentes, como espaços extras, variações de maiúsculas/minúsculas e valores inesperados que precisam ser tratados. O objetivo é garantir que os dados dessa coluna sejam uniformes e estejam no formato correto para análise e processamento.\n",
    "\n",
    "#### Passos a serem seguidos:\n",
    "\n",
    "1. **Verificar valores únicos**: Vamos listar todos os valores distintos presentes na coluna `status` para identificar inconsistências.\n",
    "2. **Contagem de valores**: A contagem de frequências de cada valor ajudará a ver se algum valor aparece de maneira inesperada ou errada.\n",
    "3. **Limpeza dos valores**:\n",
    "   - Removeremos espaços extras que possam estar presentes em torno\n"
   ],
   "id": "bbed58e8ca0f81d1"
  },
  {
   "metadata": {
    "ExecuteTime": {
     "end_time": "2025-04-21T20:40:36.578994Z",
     "start_time": "2025-04-21T20:40:36.539703Z"
    }
   },
   "cell_type": "code",
   "source": [
    "# Verificar todos os valores únicos na coluna 'status'\n",
    "valores_unicos_status = df['status'].unique()\n",
    "\n",
    "# Exibir os valores únicos\n",
    "print(valores_unicos_status)\n"
   ],
   "id": "4a6622f0523e05ab",
   "outputs": [
    {
     "name": "stdout",
     "output_type": "stream",
     "text": [
      "['Pagamento Confirmado' 'Em SeparaÃ§Ã£o' 'Entregue com Sucesso'\n",
      " 'Aguardando Pagamento' 'Em Transporte' 'AP' 'Entregue' 'PC' 'Sep'\n",
      " 'Separando' 'Pgto Confirmado' 'Transp' 'Transportando' 'Entg'\n",
      " 'aguardando pagamento' 'Aguardando Pgto']\n"
     ]
    }
   ],
   "execution_count": 48
  },
  {
   "metadata": {},
   "cell_type": "markdown",
   "source": [
    "### 🔍 Limpeza e Padronização da Coluna `status`\n",
    "\n",
    "Agora, vamos proceder com a limpeza e padronização dos valores da coluna `status`. O objetivo é garantir que todos os valores estejam consistentes, facilitando a análise dos dados. A coluna contém várias variações de status, incluindo abreviações, erros de codificação e diferenças de maiúsculas/minúsculas.\n",
    "\n",
    "#### Ações que serão realizadas:\n",
    "\n",
    "1. **Padronização de abreviações**: Algumas abreviações, como \"AP\", \"PC\", \"Sep\", \"Transp\" e \"Entg\", são formas curtas de status conhecidos. Vamos substituí-las pelas versões completas e consistentes, como \"Pagamento Confirmado\", \"Separando\", \"Transportando\", etc.\n",
    "\n",
    "2. **Correção de erros de codificação**: O valor \"Em SeparaÃ§Ã£o\" contém caracteres corrompidos, provavelmente devido a um problema de codificação de caracteres. Vamos corrigir para \"Em Separação\".\n",
    "\n",
    "3. **Uniformização de maiúsculas e minúsculas**: Para evitar discrepâncias como \"Aguardando Pagamento\" e \"aguardando pagamento\", vamos normalizar todos os valores para minúsculas.\n",
    "\n",
    "4. **Tratamento de valores ausentes**: Caso existam valores nulos ou faltantes, vamos definir a melhor estratégia, seja removendo os registros ou imputando valores apropriados.\n",
    "\n",
    "Após essas modificações, a coluna estará mais limpa e padronizada, pronta para análises e relatórios.\n"
   ],
   "id": "314e4321a01dccdc"
  },
  {
   "metadata": {
    "ExecuteTime": {
     "end_time": "2025-04-21T20:40:37.869196Z",
     "start_time": "2025-04-21T20:40:36.681055Z"
    }
   },
   "cell_type": "code",
   "source": [
    "# Dicionário de mapeamento de abreviações para valores completos\n",
    "\n",
    "status_map = {\n",
    "    'Em SeparaÃ§Ã£o' : 'em separação',\n",
    "    'AP' : 'aguardando pagamento',\n",
    "    'Entregue com Sucesso' : 'entregue',\n",
    "    'Sep' : 'em separação',\n",
    "    'PC' : 'pagamento confirmado',\n",
    "    'Separando' : 'em separação',\n",
    "    'Pgto Confirmado' : 'pagamento confirmado',\n",
    "    'Transp' : 'em transporte',\n",
    "    'Transportando': 'em transporte',\n",
    "    'Entg' : 'entregue',\n",
    "    'Aguardando Pgto' : 'aguardando pagamento',\n",
    "}\n",
    "\n",
    "\n",
    "# Substituir as abreviações e corrigir a codificação\n",
    "df['status'] = df['status'].replace(status_map)\n",
    "\n",
    "# Corrigir possíveis problemas com espaços extras\n",
    "df['status'] = df['status'].str.replace(r'\\s+', ' ', regex=True)  # Substitui múltiplos espaços por um único\n",
    "\n",
    "# Remover espaços extras antes ou depois dos textos\n",
    "df['status'] = df['status'].str.strip()\n",
    "\n",
    "# Uniformizar os valores para minúsculas\n",
    "df['status'] = df['status'].str.lower()\n",
    "\n",
    "# Verificar se há valores ausentes (nulos) e tratá-los\n",
    "df['status'] = df['status'].fillna('não definido')\n",
    "\n",
    "# Verificar o resultado\n",
    "df['status'].value_counts()\n"
   ],
   "id": "6098ff755b27da59",
   "outputs": [
    {
     "data": {
      "text/plain": [
       "status\n",
       "em separação            110609\n",
       "pagamento confirmado    109870\n",
       "aguardando pagamento     74938\n",
       "em transporte            36840\n",
       "entregue                 36495\n",
       "Name: count, dtype: int64"
      ]
     },
     "execution_count": 49,
     "metadata": {},
     "output_type": "execute_result"
    }
   ],
   "execution_count": 49
  },
  {
   "metadata": {},
   "cell_type": "markdown",
   "source": [
    "### Tratamento da Coluna `pagamento`\n",
    "\n",
    "Agora, vamos realizar a limpeza e padronização da coluna `pagamento` para garantir que os valores estejam consistentes e sem erros. O processo será o seguinte:\n",
    "\n",
    "1. **Verificar as Ocorrências Atuais**:\n",
    "   - Vamos usar `value_counts()` para listar todas as ocorrências na coluna `pagamento` e verificar se existem abreviações, erros de digitação ou valores inconsistentes. Isso nos ajudará a identificar se há valores como \"boleto\", \"pix\", \"cartão\", entre outros, de forma inconsistente ou com variações que precisam ser unificadas.\n",
    "\n",
    "2. **Aplicar Mapeamento de Valores**:\n",
    "   - Iremos mapear os diferentes tipos de pagamento, como \"boleto\", \"pix\", \"cartão\", etc., para valores consistentes. Isso inclui corrigir abreviações, erros de digitação ou variações de capitalização. Por exemplo, se houver \"boleto bancário\" e \"boleto\", ambos devem ser mapeados para o mesmo valor.\n",
    "\n",
    "3. **Limpeza de Espaços Extras**:\n",
    "   - Vamos remover espaços extras antes e depois dos valores, e também substituir múltiplos espaços consecutivos por um único espaço, caso haja algum.\n",
    "\n",
    "4. **Transformar para Minúsculas**:\n",
    "   - Para uniformizar a coluna, vamos garantir que todos os valores estejam em minúsculas, eliminando discrepâncias relacionadas à capitalização, como \"BOLETO\" e \"boleto\", que devem ser tratados da mesma forma.\n",
    "\n",
    "5. **Tratar Valores Ausentes**:\n",
    "   - Se houver valores ausentes (nulos) na coluna `pagamento`, vamos tratá-los substituindo-os por um valor padrão, como 'Não Definido' ou 'Não Informado', para evitar dados faltantes.\n",
    "\n",
    "6. **Rever os Resultados**:\n",
    "   - Após todas as modificações, vamos verificar as ocorrências novamente para garantir que todos os valores estejam consistentes e que a coluna esteja pronta para análise.\n",
    "\n",
    "Esse processo garantirá que a coluna `pagamento` tenha dados mais limpos, consistentes e prontos para serem usados em análises e relatórios, além de facilitar a categorização por tipo de pagamento.\n"
   ],
   "id": "8b74c8ab1774983b"
  },
  {
   "metadata": {
    "ExecuteTime": {
     "end_time": "2025-04-21T20:40:38.084976Z",
     "start_time": "2025-04-21T20:40:38.041317Z"
    }
   },
   "cell_type": "code",
   "source": [
    "# Verificar as ocorrências de cada tipo na coluna 'pagamento'\n",
    "df['pagamento'].value_counts()\n"
   ],
   "id": "b30eacec666bb8fc",
   "outputs": [
    {
     "data": {
      "text/plain": [
       "pagamento\n",
       "Cartão de Crédito         108459\n",
       "Transferência Bancária    106721\n",
       "Pix                       106504\n",
       "Boleto                     36005\n",
       "Pix à Vista                 1717\n",
       "Cartão Crédito à Vista      1677\n",
       "Pagamento Instantâneo       1676\n",
       "Cartão Crédito              1647\n",
       "TED                         1633\n",
       "DOC                         1602\n",
       "Boleto à Vista               593\n",
       "Boleto no Dinheiro           518\n",
       "Name: count, dtype: int64"
      ]
     },
     "execution_count": 50,
     "metadata": {},
     "output_type": "execute_result"
    }
   ],
   "execution_count": 50
  },
  {
   "metadata": {
    "ExecuteTime": {
     "end_time": "2025-04-21T20:40:39.347324Z",
     "start_time": "2025-04-21T20:40:38.203390Z"
    }
   },
   "cell_type": "code",
   "source": [
    "# Dicionário de mapeamento de abreviações para valores completos no campo 'pagamento'\n",
    "pagamento_map = {\n",
    "    'Boleto à Vista': 'boleto',\n",
    "    'Boleto no Dinheiro': 'boleto',\n",
    "    'Cartão Crédito à Vista': 'crédito à vista',\n",
    "    'Cartão de Crédito': 'cartão de crédito',\n",
    "    'TED': 'transferência bancária',\n",
    "    'DOC': 'transferência bancária',\n",
    "    'Pagamento Instantâneo': 'pix',\n",
    "    'Pix à Vista': 'pix',\n",
    "}\n",
    "\n",
    "# Substituir valores incorretos\n",
    "df['pagamento'] = df['pagamento'].replace(pagamento_map)\n",
    "\n",
    "# Corrigir possíveis problemas com espaços extras\n",
    "df['pagamento'] = df['pagamento'].str.replace(r'\\s+', ' ', regex=True)  # Substitui múltiplos espaços por um único\n",
    "\n",
    "# Remover espaços extras antes ou depois dos textos\n",
    "df['pagamento'] = df['pagamento'].str.strip()\n",
    "\n",
    "# Uniformizar os valores para minúsculas\n",
    "df['pagamento'] = df['pagamento'].str.lower()\n",
    "\n",
    "# Verificar se há valores ausentes (nulos) e tratá-los\n",
    "df['pagamento'] = df['pagamento'].fillna('não definido')\n",
    "\n",
    "# Verificar o resultado\n",
    "df['pagamento'].value_counts()\n"
   ],
   "id": "c717e09475b39786",
   "outputs": [
    {
     "data": {
      "text/plain": [
       "pagamento\n",
       "transferência bancária    109956\n",
       "pix                       109897\n",
       "cartão de crédito         108459\n",
       "boleto                     37116\n",
       "crédito à vista             1677\n",
       "cartão crédito              1647\n",
       "Name: count, dtype: int64"
      ]
     },
     "execution_count": 51,
     "metadata": {},
     "output_type": "execute_result"
    }
   ],
   "execution_count": 51
  },
  {
   "metadata": {
    "ExecuteTime": {
     "end_time": "2025-04-21T20:40:39.547009Z",
     "start_time": "2025-04-21T20:40:39.441955Z"
    }
   },
   "cell_type": "code",
   "source": [
    "# Verificar valores únicos na coluna de pagamento\n",
    "valores_unicos_pagamento = df['pagamento'].unique()\n",
    "print(\"Valores únicos em 'pagamento':\")\n",
    "print(valores_unicos_pagamento)\n",
    "\n",
    "# Verificar se há valores ausentes ou nulos\n",
    "valores_nulos_pagamento = df['pagamento'].isnull().sum()\n",
    "print(f\"Valores nulos na coluna 'pagamento': {valores_nulos_pagamento}\")"
   ],
   "id": "d82c1e48296a8db7",
   "outputs": [
    {
     "name": "stdout",
     "output_type": "stream",
     "text": [
      "Valores únicos em 'pagamento':\n",
      "['cartão de crédito' 'pix' 'transferência bancária' 'boleto'\n",
      " 'crédito à vista' 'cartão crédito']\n",
      "Valores nulos na coluna 'pagamento': 0\n"
     ]
    }
   ],
   "execution_count": 52
  },
  {
   "metadata": {},
   "cell_type": "markdown",
   "source": [
    "### 🌍 Limpeza e Padronização da Coluna `estado`\n",
    "\n",
    "Agora iremos realizar a limpeza e padronização da coluna `estado` do nosso conjunto de dados. O objetivo é garantir consistência nos valores representando os estados brasileiros.\n",
    "\n",
    "#### Etapas previstas:\n",
    "1. **Inspeção dos valores únicos**: Verificar quais valores diferentes estão presentes na coluna `estado`, identificando possíveis erros de digitação, abreviações inconsistentes ou valores inválidos.\n",
    "2. **Criação de um dicionário de mapeamento**: Construir um dicionário para padronizar os nomes e siglas dos estados. Por exemplo, transformar \"sp\", \"SP \", \"São Paulo\", etc., em \"SP\".\n",
    "3. **Aplicação do mapeamento**: Substituir os valores inconsistentes pelos padronizados, utilizando o dicionário de mapeamento.\n",
    "4. **Tratamento de valores ausentes**: Se houver estados ausentes (`NaN`),\n"
   ],
   "id": "de5c1751857f4dcb"
  },
  {
   "metadata": {
    "ExecuteTime": {
     "end_time": "2025-04-21T20:40:39.648631Z",
     "start_time": "2025-04-21T20:40:39.612781Z"
    }
   },
   "cell_type": "code",
   "source": [
    "# Verificar valores únicos na coluna de estado\n",
    "valores_unicos_estado = df['estado'].unique()\n",
    "print(\"Valores únicos em 'estado':\")\n",
    "print(valores_unicos_estado)\n",
    "\n",
    "# Verificar se há valores ausentes ou nulos\n",
    "valores_nulos_estado = df['estado'].isnull().sum()\n",
    "print(f\"Valores nulos na coluna 'estado': {valores_nulos_estado}\")\n"
   ],
   "id": "9e41478022792961",
   "outputs": [
    {
     "name": "stdout",
     "output_type": "stream",
     "text": [
      "Valores únicos em 'estado':\n",
      "['RJ' 'MG' 'SP' 'MTSa' 'São Paulo' 'RS' 'PR' 'PSC']\n",
      "Valores nulos na coluna 'estado': 0\n"
     ]
    }
   ],
   "execution_count": 53
  },
  {
   "metadata": {
    "ExecuteTime": {
     "end_time": "2025-04-21T20:40:39.866717Z",
     "start_time": "2025-04-21T20:40:39.731363Z"
    }
   },
   "cell_type": "code",
   "source": [
    "# Dicionário de mapeamento para padronizar os estados\n",
    "estado_map = {\n",
    "    'São Paulo': 'SP',\n",
    "    'MTSa': 'MT',\n",
    "    'PSC': 'SC'\n",
    "}\n",
    "\n",
    "# Aplicar o mapeamento\n",
    "df['estado'] = df['estado'].replace(estado_map)\n",
    "\n",
    "# Verificar os valores únicos após a substituição\n",
    "df['estado'].unique()\n"
   ],
   "id": "32293ad56208b1ce",
   "outputs": [
    {
     "data": {
      "text/plain": [
       "array(['RJ', 'MG', 'SP', 'MT', 'RS', 'PR', 'SC'], dtype=object)"
      ]
     },
     "execution_count": 54,
     "metadata": {},
     "output_type": "execute_result"
    }
   ],
   "execution_count": 54
  },
  {
   "metadata": {},
   "cell_type": "markdown",
   "source": [
    "## 🏙️ Conexão entre as Colunas 'CEP' e 'Cidade'\n",
    "\n",
    "### Objetivo:\n",
    "O objetivo de realizar uma validação combinada entre as colunas **CEP** e **Cidade** é garantir que os dados de localização estejam consistentes, completos e correspondam corretamente entre si. Isso é crucial para garantir a qualidade e precisão dos dados, além de permitir análises e operações futuras sem erros ou inconsistências.\n",
    "\n",
    "### Por que Validar 'CEP' e 'Cidade' Juntas?\n",
    "\n",
    "1. **Consistência de Dados**:\n",
    "   - O **CEP** é um código postal utilizado para identificar a localização geográfica de um endereço, e ele é diretamente relacionado à **cidade** em que está localizado. Portanto, é importante que, ao validarmos o **CEP**, também verifiquemos se ele corresponde à cidade associada.\n",
    "   - Se a cidade for válida, mas o **CEP** não corresponder ou estiver em um formato inválido, isso pode indicar um erro nos dados ou uma incoerência no registro.\n",
    "\n",
    "2. **Garantir Integridade Geográfica**:\n",
    "   - O processo de validação cruzada entre o **CEP** e a **Cidade** permite evitar casos em que o **CEP** esteja registrado para uma cidade inexistente ou errada.\n",
    "   - Também ajuda a filtrar entradas onde o **CEP** pode ser incompleto ou mal formatado, assegurando que o formato do **CEP** esteja correto, e que ele pertença à cidade informada.\n",
    "\n",
    "3. **Prevenção de Dados Inconsistentes**:\n",
    "   - Ao realizar a validação combinada, evitamos problemas como:\n",
    "     - Cidades com **CEPs** inválidos.\n",
    "     - Cidades não existentes ou mal escritas associadas a **CEPs** reais.\n",
    "     - Dados faltantes, que podem ser preenchidos corretamente se a verificação for feita com base em ambas as colunas.\n",
    "\n",
    "### Como Funciona a Validação Cruzada:\n",
    "\n",
    "1. **Validação da Cidade**:\n",
    "   - A primeira etapa consiste em garantir que o nome da cidade na coluna **cidade** seja válido. Isso envolve verificar se a cidade contém apenas caracteres alfabéticos e espaços (evitar números, caracteres especiais e valores nulos).\n",
    "   - Caso algum valor da cidade seja inválido (como cidades com números ou caracteres não alfabéticos), ele será convertido para `NaN`.\n",
    "\n",
    "2. **Validação do CEP**:\n",
    "   - O **CEP** será verificado para garantir que esteja no formato correto (ex: `00000-000`).\n",
    "   - O **CEP** será validado para garantir que ele não contenha valores incompletos, nulos ou inválidos.\n",
    "   - Em paralelo, é importante que o **CEP** se associe corretamente à **cidade**, caso haja necessidade de validação geográfica adicional.\n",
    "\n",
    "3. **Validação Combinada**:\n",
    "   - Após a verificação individual, será realizada uma análise de consistência cruzada entre o **CEP** e a **Cidade** para garantir que a cidade associada ao **CEP** seja válida.\n",
    "   - Caso o **CEP** ou a **Cidade** apresentem discrepâncias (como uma cidade que não corresponda a um **CEP** válido ou vice-versa), essas entradas serão marcadas como `NaN` para posterior análise e correção.\n",
    "\n"
   ],
   "id": "cbd080497fd4e8af"
  },
  {
   "metadata": {
    "ExecuteTime": {
     "end_time": "2025-04-21T20:40:39.959062Z",
     "start_time": "2025-04-21T20:40:39.876250Z"
    }
   },
   "cell_type": "code",
   "source": [
    "# Verificar valores únicos e nulos nas colunas de 'cidade' e 'cep'\n",
    "valores_unicos_cidade = df['cidade'].unique()\n",
    "valores_nulos_cidade = df['cidade'].isnull().sum()\n",
    "\n",
    "valores_unicos_cep = df['cep'].unique()\n",
    "valores_nulos_cep = df['cep'].isnull().sum()\n",
    "\n",
    "# Exibir as informações\n",
    "print(\"Valores únicos em 'cidade':\")\n",
    "print(valores_unicos_cidade)\n",
    "print(f\"Valores nulos na coluna 'cidade': {valores_nulos_cidade}\\n\")\n",
    "\n",
    "print(\"Valores únicos em 'cep':\")\n",
    "print(valores_unicos_cep)\n",
    "print(f\"Valores nulos na coluna 'cep': {valores_nulos_cep}\\n\")\n"
   ],
   "id": "8fad333f86dddcb8",
   "outputs": [
    {
     "name": "stdout",
     "output_type": "stream",
     "text": [
      "Valores únicos em 'cidade':\n",
      "['Niterói' 'Mariana' 'Cabo Frio' 'Campos dos Goytacazes'\n",
      " 'Conselheiro Lafaiete' 'Resende Costa' 'São Paulo' 'Bicas'\n",
      " 'São João del-Rei' 'São Gonçalo' 'São Bernardo do Campo'\n",
      " 'Duque de Caxias' 'Macaé' 'Viçosa' 'Juiz de Fora' 'Guarulhos'\n",
      " 'Matias Barbosa' 'Campinas' 'Barroso' 'Carandaí' 'Barbacena' 'Itaboraí'\n",
      " 'Muriaé' 'Petrópolis' 'Ouro Branco' 'Prados' 'Santos Dumont' 'Cataguases'\n",
      " 'São João de Meriti' 'Ubá' 'Palma' 'Simão Pereira' 'Magé'\n",
      " 'Ewbank da Câmara' 'Santana do Garambéu' 'Astolfo Dutra'\n",
      " 'São João Nepomuceno' 'Belo Horizonte' 'Tocantins' 'Congonhas'\n",
      " 'São Vicente de Minas' 'Coronel Xavier Chaves' 'Leopoldina'\n",
      " 'Belford Roxo' 'Ritápolis' 'Lagoa Dourada' 'Rio de Janeiro' 'Nova Iguaçu'\n",
      " 'São Tiago' 'São José dos Campos' 'Volta Redonda' 'Lima Duarte'\n",
      " 'Santo André' 'Tiradentes' 'Ouro Preto' 'Angra dos Reis']\n",
      "Valores nulos na coluna 'cidade': 0\n",
      "\n",
      "Valores únicos em 'cep':\n",
      "['24000-000' '35420-000' '28900-000' '28000-000' '36400-000' '36340-000'\n",
      " '01000-000' '36600-000' '36300-000' '24400-000' '09700-000' '25000-000'\n",
      " '27900-000' '36570-000' '36000-000' '07000-000' '36120-000' '13000-000'\n",
      " '36212-000' '36280-000' '36200-000' '24800-000' '36880-000' '25600-000'\n",
      " '36420-000' '36320-000' '36240-000' '36770-000' '25500-000' '36500-000'\n",
      " '36710-000' '36123-000' '25900-000' '36108-000' '361X8XXX' '366XXXXX'\n",
      " '36196-000' '36780-000' '36680-000' '30000-000' '36510-000' '36415-000'\n",
      " '37370-000' '36330-000' '36700-000' '26100-000' '36335-000' '36345-000'\n",
      " '20000-000' '26000-000' '36350-000' '12200-000' '27200-000' '36140-000'\n",
      " '09000-000' '3677XXXX' '36325XXX' '35400-000' '36345XXX' '36325-000'\n",
      " '23900-000' '3688XXXX' '36123XXX' '3668XXXX' '367XXXXX' '244XXXXX'\n",
      " '2XXXXXXX' 'X9XXXXXX' '25XXXXXX' '13XXXXXX' '36335XXX' '248XXXXX'\n",
      " '3614XXXX' '36415XXX' '3678XXXX' '256XXXXX' '363XXXXX' '365XXXXX'\n",
      " '289XXXXX' '36196XXX' '259XXXXX' '239XXXXX' '3642XXXX' 'X7XXXXXX'\n",
      " '272XXXXX' 'X1XXXXXX' '3651XXXX' '3628XXXX' '354XXXXX' '3633XXXX'\n",
      " '3612XXXX' '3737XXXX' '3671XXXX' '3634XXXX' '122XXXXX' '3542XXXX'\n",
      " '3635XXXX' '28XXXXXX' '24XXXXXX' '3624XXXX' '36XXXXXX' '261XXXXX'\n",
      " '364XXXXX' '362XXXXX' '3XXXXXXX' '3657XXXX' '3632XXXX' '26XXXXXX'\n",
      " '279XXXXX' 'X97XXXXX' '255XXXXX' '36212XXX']\n",
      "Valores nulos na coluna 'cep': 0\n",
      "\n"
     ]
    }
   ],
   "execution_count": 55
  },
  {
   "metadata": {
    "ExecuteTime": {
     "end_time": "2025-04-21T20:40:47.628912Z",
     "start_time": "2025-04-21T20:40:39.990844Z"
    }
   },
   "cell_type": "code",
   "source": [
    "# Exemplo de dicionário com CEPs válidos para algumas cidades (o mapeamento deve ser mais completo)\n",
    "cidade_para_cep = {\n",
    "    'Niterói': '24000-000',\n",
    "    'Mariana': '35420-000',\n",
    "    'Cabo Frio': '28900-000',\n",
    "    'Campos dos Goytacazes': '28000-000',\n",
    "    'Conselheiro Lafaiete': '36400-970',\n",
    "    'Resende Costa': '36340-000',\n",
    "    'São Paulo': '01000-000',\n",
    "    'Bicas': '36600-032',\n",
    "    'São João del-Rei': '36300-001',\n",
    "    'São Gonçalo': '24410-000',\n",
    "    'São Bernardo do Campo': '09600-004',\n",
    "    'Duque de Caxias': '25000-000',\n",
    "    'Macaé': '27975-170',\n",
    "    'Viçosa': '36570-000',\n",
    "    'Juiz de Fora': '36000-000',\n",
    "    'Guarulhos': '07000-000',\n",
    "    'Matias Barbosa': '36120-000',\n",
    "    'Campinas': '13000-000',\n",
    "    'Barroso': '36212-000',\n",
    "    'Carandaí': '36280-000',\n",
    "    'Barbacena': '36200-000',\n",
    "    'Itaboraí': '24800-000',\n",
    "    'Muriaé': '36880-000',\n",
    "    'Petrópolis': '25600-000',\n",
    "    'Ouro Branco': '36420-000',\n",
    "    'Prados': '36320-000',\n",
    "    'Santos Dumont': '36240-000',\n",
    "    'Cataguases': '36770-000',\n",
    "    'São João de Meriti': '25500-000',\n",
    "    'Ubá': '36500-000',\n",
    "    'Palma': '36710-000',\n",
    "    'Simão Pereira': '36123-000',\n",
    "    'Magé': '25900-000',\n",
    "    'Ewbank da Câmara': '36108-000',\n",
    "    'Santana do Garambéu': '36146-000',\n",
    "    'Astolfo Dutra': '36780-000',\n",
    "    'São João Nepomuceno': '36196-000',\n",
    "    'Belo Horizonte': '30100-000',\n",
    "    'Tocantins': '36680-000',\n",
    "    'Congonhas': '36415-000',\n",
    "    'São Vicente de Minas': '36510-000',\n",
    "    'Coronel Xavier Chaves': '36415-000',\n",
    "    'Leopoldina': '36770-000',\n",
    "    'Belford Roxo': '26100-000',\n",
    "    'Ritápolis': '36335-000',\n",
    "    'Lagoa Dourada': '36240-000',\n",
    "    'Rio de Janeiro': '20000-000',\n",
    "    'Nova Iguaçu': '26200-000',\n",
    "    'São Tiago': '36280-000',\n",
    "    'São José dos Campos': '12200-000',\n",
    "    'Volta Redonda': '27200-000',\n",
    "    'Lima Duarte': '36140-000',\n",
    "    'Santo André': '09000-000',\n",
    "    'Tiradentes': '36325-000',\n",
    "    'Ouro Preto': '35400-000',\n",
    "    'Angra dos Reis': '23900-000'\n",
    "}\n",
    "\n",
    "# Função para corrigir CEPs inválidos\n",
    "def corrigir_cep(row):\n",
    "    if 'X' in row['cep'] or len(row['cep']) != 9:\n",
    "        return cidade_para_cep.get(row['cidade'], row['cep'])  # Substitui se a cidade tiver um CEP válido mapeado\n",
    "    return row['cep']\n",
    "\n",
    "# Aplicar a função ao DataFrame\n",
    "df['cep'] = df.apply(corrigir_cep, axis=1)\n",
    "\n",
    "# Salvar o DataFrame atualizado\n",
    "df.to_csv('vendas_limpo.csv', index=False)\n"
   ],
   "id": "b8657c5e28b7ae10",
   "outputs": [],
   "execution_count": 56
  },
  {
   "metadata": {
    "ExecuteTime": {
     "end_time": "2025-04-21T20:40:47.713481Z",
     "start_time": "2025-04-21T20:40:47.639203Z"
    }
   },
   "cell_type": "code",
   "source": [
    "# Verificar valores únicos e nulos nas colunas de 'cidade' e 'cep'\n",
    "valores_unicos_cidade = df['cidade'].unique()\n",
    "valores_nulos_cidade = df['cidade'].isnull().sum()\n",
    "\n",
    "valores_unicos_cep = df['cep'].unique()\n",
    "valores_nulos_cep = df['cep'].isnull().sum()\n",
    "\n",
    "# Exibir as informações\n",
    "print(\"Valores únicos em 'cidade':\")\n",
    "print(valores_unicos_cidade)\n",
    "print(f\"Valores nulos na coluna 'cidade': {valores_nulos_cidade}\\n\")\n",
    "\n",
    "print(\"Valores únicos em 'cep':\")\n",
    "print(valores_unicos_cep)\n",
    "print(f\"Valores nulos na coluna 'cep': {valores_nulos_cep}\\n\")\n"
   ],
   "id": "69201f5ef63cc1eb",
   "outputs": [
    {
     "name": "stdout",
     "output_type": "stream",
     "text": [
      "Valores únicos em 'cidade':\n",
      "['Niterói' 'Mariana' 'Cabo Frio' 'Campos dos Goytacazes'\n",
      " 'Conselheiro Lafaiete' 'Resende Costa' 'São Paulo' 'Bicas'\n",
      " 'São João del-Rei' 'São Gonçalo' 'São Bernardo do Campo'\n",
      " 'Duque de Caxias' 'Macaé' 'Viçosa' 'Juiz de Fora' 'Guarulhos'\n",
      " 'Matias Barbosa' 'Campinas' 'Barroso' 'Carandaí' 'Barbacena' 'Itaboraí'\n",
      " 'Muriaé' 'Petrópolis' 'Ouro Branco' 'Prados' 'Santos Dumont' 'Cataguases'\n",
      " 'São João de Meriti' 'Ubá' 'Palma' 'Simão Pereira' 'Magé'\n",
      " 'Ewbank da Câmara' 'Santana do Garambéu' 'Astolfo Dutra'\n",
      " 'São João Nepomuceno' 'Belo Horizonte' 'Tocantins' 'Congonhas'\n",
      " 'São Vicente de Minas' 'Coronel Xavier Chaves' 'Leopoldina'\n",
      " 'Belford Roxo' 'Ritápolis' 'Lagoa Dourada' 'Rio de Janeiro' 'Nova Iguaçu'\n",
      " 'São Tiago' 'São José dos Campos' 'Volta Redonda' 'Lima Duarte'\n",
      " 'Santo André' 'Tiradentes' 'Ouro Preto' 'Angra dos Reis']\n",
      "Valores nulos na coluna 'cidade': 0\n",
      "\n",
      "Valores únicos em 'cep':\n",
      "['24000-000' '35420-000' '28900-000' '28000-000' '36400-000' '36340-000'\n",
      " '01000-000' '36600-000' '36300-000' '24400-000' '09700-000' '25000-000'\n",
      " '27900-000' '36570-000' '36000-000' '07000-000' '36120-000' '13000-000'\n",
      " '36212-000' '36280-000' '36200-000' '24800-000' '36880-000' '25600-000'\n",
      " '36420-000' '36320-000' '36240-000' '36770-000' '25500-000' '36500-000'\n",
      " '36710-000' '36123-000' '25900-000' '36108-000' '36600-032' '36196-000'\n",
      " '36780-000' '36680-000' '30000-000' '36510-000' '36415-000' '37370-000'\n",
      " '36330-000' '36700-000' '26100-000' '36335-000' '36345-000' '20000-000'\n",
      " '26000-000' '36350-000' '12200-000' '27200-000' '36140-000' '09000-000'\n",
      " '36325-000' '35400-000' '23900-000' '24410-000' '36300-001' '36146-000'\n",
      " '36400-970' '30100-000' '26200-000' '27975-170' '09600-004']\n",
      "Valores nulos na coluna 'cep': 0\n",
      "\n"
     ]
    }
   ],
   "execution_count": 57
  },
  {
   "metadata": {},
   "cell_type": "markdown",
   "source": [
    "# 📝 Análise de Produtos e Marcas - Documentação de Processos\n",
    "\n",
    "## 🔍 Objetivo\n",
    "\n",
    "O objetivo dessa etapa foi realizar uma análise exploratória na base de dados, com foco em verificar e corrigir valores de produtos e marcas. Também foram realizadas verificações para identificar dados faltantes e inconsistências nos nomes dos produtos. Para isso, foi utilizado um dicionário de correções para garantir que os nomes dos produtos estejam uniformizados.\n",
    "\n",
    "## 🛠️ Etapas Realizadas\n",
    "\n",
    "### 1. **Verificação de Valores Nulos**\n",
    "Antes de iniciar qualquer análise, é importante verificar se existem valores nulos na base de dados. Isso ajuda a identificar possíveis problemas de qualidade de dados. Foram realizadas as seguintes verificações:\n",
    "\n",
    "- **Produtos Nulos**: Verificamos quantos produtos estão ausentes (`NaN`).\n",
    "- **Marcas Nulas**: Verificamos quantas marcas estão ausentes (`NaN`).\n",
    "\n",
    "```python\n",
    "# Verificar valores nulos\n",
    "print(\"🔍 Produtos nulos:\", df['produto'].isna().sum())\n",
    "print(\"🔍 Marcas nulas:\", df['marca'].isna().sum())\n"
   ],
   "id": "dcece8143ead696d"
  },
  {
   "metadata": {
    "ExecuteTime": {
     "end_time": "2025-04-21T20:40:47.968478Z",
     "start_time": "2025-04-21T20:40:47.722165Z"
    }
   },
   "cell_type": "code",
   "source": [
    "# Verificar valores nulos\n",
    "print(\"🔍 Produtos nulos:\", df['produto'].isna().sum())\n",
    "print(\"🔍 Marcas nulas:\", df['marca'].isna().sum())\n",
    "\n",
    "# Verificar valores únicos\n",
    "print(\"\\n📦 Produtos únicos:\")\n",
    "print(df['produto'].value_counts())\n",
    "\n",
    "print(\"\\n🏷️ Marcas únicas:\")\n",
    "print(df['marca'].value_counts())\n",
    "\n",
    "# Checar por valores estranhos (ex: espaços extras, letras maiúsculas/minúsculas diferentes)\n",
    "print(\"\\n🔎 Valores de 'produto' únicos (ordenados):\")\n",
    "print(sorted(df['produto'].dropna().unique()))\n",
    "\n",
    "print(\"\\n🔎 Valores de 'marca' únicos (ordenados):\")\n",
    "print(sorted(df['marca'].dropna().unique()))\n"
   ],
   "id": "75e5582acec175c",
   "outputs": [
    {
     "name": "stdout",
     "output_type": "stream",
     "text": [
      "🔍 Produtos nulos: 0\n",
      "🔍 Marcas nulas: 0\n",
      "\n",
      "📦 Produtos únicos:\n",
      "produto\n",
      "Pasta de Dente      25710\n",
      "Queijo Mussarela    25634\n",
      "Sabonete            24278\n",
      "Manteiga            23769\n",
      "Café                21916\n",
      "                    ...  \n",
      "Macirrão                1\n",
      "Deqergente              1\n",
      "Cafc                    1\n",
      "Queijo Mussarelz        1\n",
      "Deterwente              1\n",
      "Name: count, Length: 99, dtype: int64\n",
      "\n",
      "🏷️ Marcas únicas:\n",
      "marca\n",
      "Dove            15224\n",
      "Itambé           9553\n",
      "Colgate          8819\n",
      "Porto Alegre     8806\n",
      "Quatá            8804\n",
      "                ...  \n",
      "Brilhante        1001\n",
      "Tixan             990\n",
      "Genérico          553\n",
      "Marca-Brás        515\n",
      "Ki-Brasa          515\n",
      "Name: count, Length: 88, dtype: int64\n",
      "\n",
      "🔎 Valores de 'produto' únicos (ordenados):\n",
      "['Amaciante', 'Amaciante#$@!', 'Amaciayte', 'Arroc', 'Arroz', 'Arroz#$@!', 'Açúcar', 'Açúcar#$@!', 'Açúcaz', 'Biscoito Recheado', 'Biscoito Recheado#$@!', 'Biscoitq Recheado', 'Cafc', 'Caff', 'Caft', 'Café', 'Café#$@!', 'Carvão', 'Carvão#$@!', 'Cerveja', 'Cerveja#$@!', 'Clfé', 'Cnfé', 'Condibionador', 'Condicioiador#$@!', 'Condicionador', 'Condicionador#$@!', 'Deqergente', 'Desinfekante', 'Desinfetante', 'Desinfetante#$@!', 'Desinfetanue', 'Detergente', 'Detergente#$@!', 'Deterwente', 'Farinha de Trigo', 'Farinha de Trigo#$@!', 'Farinha de Tripo', 'Feijão', 'Feijão#$@!', 'Leite Integral', 'Leite Integral#$@!', 'Macarrão', 'Macarrão#$@!', 'Macawrão', 'Macirrão', 'Majarrão', 'Manteiga', 'Manteiga#$@!', 'Manteigt', 'Molho de Tomate', 'Molho de Tomate#$@!', 'Molmo de Tomate', 'Mopho de Tomate', 'Mqcarrão', 'Papel Higiênico', 'Papel Higiênico#$@!', 'Papel Toalha', 'Papel Toalha#$@!', 'Papel Twalha', 'Papel qoalha', 'Pasta de Dente', 'Pasta de Dente#$@!', 'Presuntd', 'Presunto', 'Presunto#$@!', 'Pão de Forma', 'Pão de Forma#$@!', 'Qbeijo Mussarela', 'Queijo Mussarela', 'Queijo Mussarela#$@!', 'Queijo Mussarelz', 'Refrigerante', 'Refrigerante#$@!', 'Refrigkrante', 'Sabonepe', 'Sabonete', 'Sabonete#$@!', 'Sabão em Pó', 'Sabão em Pó#$@!', 'Sal', 'Sal#$@!', 'Scl', 'Shampoo', 'Shampoo#$@!', 'Suco de Laranja', 'Suco de Laranja#$@!', 'Sucoyde Laranja', 'Vinho', 'Vinho#$@!', 'ieijão', 'tal', 'zabonete', 'Água Mineral', 'Água Mineral#$@!', 'Água Mineras', 'Água Mineual', 'Óleo de Soja', 'Óleo de Soja#$@!']\n",
      "\n",
      "🔎 Valores de 'marca' únicos (ordenados):\n",
      "['3 Corações', 'Adria', 'Anaconda', 'Aurora', 'Aviação', 'Barilla', 'Bauducco', 'Brahma', 'Brilhante', 'Caldo Bom', 'Camil', 'Caravelas', 'Cisne', 'Coamo', 'Coca-Cola', 'Colgate', 'Concha y Toro', 'Confort', 'Crystal', 'Dafruta', 'Del Valle', 'Dona Benta', 'Dove', 'Downy', 'Dualette', 'Elefante', 'Elegê', 'Elite', 'Fanta', 'Fofo', 'Fugini', 'Genérico', 'Guaraná Antártica', 'Heineken', 'Itamarati', 'Itambé', 'Ki-Brasa', 'Kicaldo', 'Lebre', 'Limpol', 'Liza', 'Lux', 'Lysoform', 'Marca-Brás', 'Marinho', 'Melitta', 'Minalba', 'Minuano', 'Miolo', 'Namorado', 'Nestlé', 'Neve', 'Nivea', 'Nutrella', 'Omo', 'Oral-B', 'Pantene', 'Perdigão', 'Personal', 'Pilão', 'Pinho Sol', 'Piracanjuba', 'Porto Alegre', 'Prats', 'Predilecta', 'Pullman', 'Qualy', 'Quatá', 'Renata', 'Sadia', 'Salton', 'Scott', 'Seda', 'Skol', 'Snob', 'Sol', 'Sorriso', 'Soya', 'São Lourenço', 'Tio João', 'Tirolez', 'Tixan', 'Triunfo', 'União', 'Urbano', 'Veja', 'Wickbold', 'Ypê']\n"
     ]
    }
   ],
   "execution_count": 58
  },
  {
   "metadata": {},
   "cell_type": "markdown",
   "source": [
    "## Análise de Produtos por Marca\n",
    "Queremos entender quantos produtos diferentes existem para cada marca. Para isso, usamos a função groupby para contar o número de produtos únicos por marca."
   ],
   "id": "df0094d41684b6a2"
  },
  {
   "metadata": {
    "ExecuteTime": {
     "end_time": "2025-04-21T20:40:48.122345Z",
     "start_time": "2025-04-21T20:40:47.980270Z"
    }
   },
   "cell_type": "code",
   "source": [
    "# Verificar quantos produtos únicos cada marca tem\n",
    "produtos_por_marca = df.groupby('marca')['produto'].nunique().sort_values(ascending=False)\n",
    "print(\"\\n📊 Produtos únicos por marca:\")\n",
    "print(produtos_por_marca)"
   ],
   "id": "168d9d124e2bf67a",
   "outputs": [
    {
     "name": "stdout",
     "output_type": "stream",
     "text": [
      "\n",
      "📊 Produtos únicos por marca:\n",
      "marca\n",
      "Dove          7\n",
      "3 Corações    6\n",
      "Pantene       5\n",
      "Itambé        5\n",
      "Seda          5\n",
      "             ..\n",
      "Tixan         2\n",
      "União         2\n",
      "Urbano        2\n",
      "Veja          2\n",
      "Wickbold      2\n",
      "Name: produto, Length: 88, dtype: int64\n"
     ]
    }
   ],
   "execution_count": 59
  },
  {
   "metadata": {},
   "cell_type": "markdown",
   "source": [
    "# 🧹 Limpeza de Dados com Dicionário de Correções\n",
    "\n",
    " Durante a análise, encontramos vários erros de digitação e variações nos nomes dos produtos. Para corrigir isso de forma eficiente, utilizamos um **dicionário de correções**. O dicionário contém pares de valores, onde as chaves representam os nomes incorretos ou variantes, e os valores correspondem aos nomes corretos dos produtos.\n",
    "\n",
    "### Abaixo, mostramos um exemplo de como os nomes dos produtos foram corrigidos:"
   ],
   "id": "5bad13f4c0fafa10"
  },
  {
   "metadata": {
    "ExecuteTime": {
     "end_time": "2025-04-21T20:40:51.816111Z",
     "start_time": "2025-04-21T20:40:48.134090Z"
    }
   },
   "cell_type": "code",
   "source": [
    "dict_produtos_corrigidos = {\n",
    "    'Cafc': 'Café', 'Caff': 'Café', 'Caft': 'Café', 'Clfé': 'Café', 'Cnfé': 'Café',\n",
    "    'Café#$@!': 'Café',\n",
    "\n",
    "    'Qbeijo Mussarela': 'Queijo Mussarela',\n",
    "    'Queijo Mussarelz': 'Queijo Mussarela',\n",
    "    'Queijo Mussarela#$@!': 'Queijo Mussarela',\n",
    "\n",
    "    'zabonete': 'Sabonete', 'Sabonepe': 'Sabonete',\n",
    "    'Sabonete#$@!': 'Sabonete',\n",
    "\n",
    "    'Deqergente': 'Detergente', 'Deterwente': 'Detergente',\n",
    "    'Detergente#$@!': 'Detergente',\n",
    "\n",
    "    'Desinfekante': 'Desinfetante', 'Desinfetanue': 'Desinfetante',\n",
    "    'Desinfetante#$@!': 'Desinfetante',\n",
    "\n",
    "    'Macirrão': 'Macarrão', 'Macawrão': 'Macarrão', 'Majarrão': 'Macarrão', 'Mqcarrão': 'Macarrão',\n",
    "    'Macarrão#$@!': 'Macarrão',\n",
    "\n",
    "    'Papel Twalha': 'Papel Toalha', 'Papel qoalha': 'Papel Toalha',\n",
    "    'Papel Toalha#$@!': 'Papel Toalha',\n",
    "\n",
    "    'Condibionador': 'Condicionador', 'Condicioiador#$@!': 'Condicionador', 'Condicionador#$@!': 'Condicionador',\n",
    "\n",
    "    'Água Mineras': 'Água Mineral', 'Água Mineual': 'Água Mineral',\n",
    "    'Água Mineral#$@!': 'Água Mineral',\n",
    "\n",
    "    'Arroc': 'Arroz', 'Arroz#$@!': 'Arroz',\n",
    "\n",
    "    'Açúcaz': 'Açúcar', 'Açúcar#$@!': 'Açúcar',\n",
    "\n",
    "    'Vinho#$@!': 'Vinho',\n",
    "\n",
    "    'Shampoo#$@!': 'Shampoo',\n",
    "\n",
    "    'Amaciante#$@!': 'Amaciante', 'Amaciayte': 'Amaciante',\n",
    "\n",
    "    'Scl': 'Sal', 'Sal#$@!': 'Sal',\n",
    "\n",
    "    'Presuntd': 'Presunto', 'Presunto#$@!': 'Presunto',\n",
    "\n",
    "    'Sabão em Pó#$@!': 'Sabão em Pó',\n",
    "    'sabão em pó': 'Sabão em Pó',\n",
    "\n",
    "    'Leite Integral#$@!': 'Leite Integral',\n",
    "\n",
    "    'ieijão': 'Feijão', 'Feijão#$@!': 'Feijão',\n",
    "\n",
    "    'Pão de Forma#$@!': 'Pão de Forma',\n",
    "    'pão de forma': 'Pão de Forma',\n",
    "\n",
    "    'Sucoyde Laranja': 'Suco de Laranja', 'Suco de Laranja#$@!': 'Suco de Laranja',\n",
    "    'suco de laranja': 'Suco de Laranja',\n",
    "\n",
    "    'pasta de dente#$@!': 'Pasta de Dente',\n",
    "    'pasta de dente': 'Pasta de Dente',\n",
    "\n",
    "    'manteigt': 'Manteiga',\n",
    "    'manteiga': 'Manteiga',\n",
    "    'manteiga#$@!': 'Manteiga',\n",
    "\n",
    "    'molho de tomate': 'Molho de Tomate',\n",
    "    'Molho de Tomate': 'Molho de Tomate',\n",
    "    'mopho de tomate': 'Molho de Tomate',\n",
    "    'molho de tomate#$@!': 'Molho de Tomate',\n",
    "    'Molho de Tomate#$@!': 'Molho de Tomate',\n",
    "    'molmo de tomate': 'Molho de Tomate',\n",
    "\n",
    "    'refrigerante#$@!': 'Refrigerante',\n",
    "    'refrigkrante': 'Refrigerante',\n",
    "    'cerveja#$@!': 'Cerveja',\n",
    "\n",
    "    'Biscoito Recheado': 'Biscoito Recheado',\n",
    "    'biscoito recheado#$@!': 'Biscoito Recheado',\n",
    "    'Biscoitq Recheado': 'Biscoito Recheado',\n",
    "\n",
    "    'Óleo de Soja': 'Óleo de Soja',\n",
    "    'óleo de soja#$@!': 'Óleo de Soja',\n",
    "\n",
    "    'Farinha de Trigo': 'Farinha de Trigo',\n",
    "    'farinha de trigo#$@!': 'Farinha de Trigo',\n",
    "    'farinha de tripo': 'Farinha de Trigo',\n",
    "\n",
    "    'papel higiênico#$@!': 'Papel Higiênico',\n",
    "    'carvão#$@!': 'Carvão',\n",
    "    'tal': 'Talco'\n",
    "}\n",
    "dict_produtos_corrigidos = {k.lower(): v for k, v in dict_produtos_corrigidos.items()}\n",
    "df['produto'] = df['produto'].str.lower()\n",
    "df['produto'] = df['produto'].replace(dict_produtos_corrigidos)\n",
    "df['produto'] = df['produto'].str.title()\n",
    "print(\"🔍 Produtos únicos após correção:\")\n",
    "print(df['produto'].value_counts())"
   ],
   "id": "e24539aefe0e41f",
   "outputs": [
    {
     "name": "stdout",
     "output_type": "stream",
     "text": [
      "🔍 Produtos únicos após correção:\n",
      "produto\n",
      "Pasta De Dente       26250\n",
      "Queijo Mussarela     26161\n",
      "Sabonete             24764\n",
      "Manteiga             24224\n",
      "Café                 22372\n",
      "Açúcar               22150\n",
      "Papel Toalha         18742\n",
      "Desinfetante         18544\n",
      "Molho De Tomate      12546\n",
      "Condicionador        11423\n",
      "Refrigerante          9643\n",
      "Água Mineral          9609\n",
      "Farinha De Trigo      9537\n",
      "Macarrão              9529\n",
      "Sal                   9497\n",
      "Biscoito Recheado     9486\n",
      "Presunto              9484\n",
      "Vinho                 9472\n",
      "Detergente            9458\n",
      "Shampoo               9443\n",
      "Óleo De Soja          9389\n",
      "Suco De Laranja       9261\n",
      "Cerveja               8626\n",
      "Pão De Forma          6799\n",
      "Feijão                6317\n",
      "Arroz                 6279\n",
      "Papel Higiênico       5463\n",
      "Amaciante             4972\n",
      "Leite Integral        4730\n",
      "Sabão Em Pó           2998\n",
      "Carvão                1583\n",
      "Talco                    1\n",
      "Name: count, dtype: int64\n"
     ]
    }
   ],
   "execution_count": 60
  },
  {
   "metadata": {},
   "cell_type": "markdown",
   "source": [
    "# 🔍 Análise e Debug da Coluna `vendedores`\n",
    "\n",
    "Nesta célula, vamos realizar uma análise completa da coluna `vendedores` para identificar:\n",
    "\n",
    "1. **Valores nulos** (`NaN`)\n",
    "2. **Strings vazias** ou compostas apenas por espaços\n",
    "3. **Tipos de dados inconsistentes**\n",
    "4. **Padrões inválidos** (por exemplo, entradas numéricas, símbolos ou formatação incorreta)\n",
    "5. **Valores únicos** para inspeção manual\n",
    "\n",
    "Essas verificações ajudam a garantir a qualidade dos dados antes de qualquer análise ou uso da coluna em modelos.\n"
   ],
   "id": "205fc474d3929bf7"
  },
  {
   "metadata": {
    "ExecuteTime": {
     "end_time": "2025-04-21T20:40:52.728859Z",
     "start_time": "2025-04-21T20:40:51.845014Z"
    }
   },
   "cell_type": "code",
   "source": [
    "# 🔍 Debug da coluna 'vendedor'\n",
    "\n",
    "# 1. Verificar quantidade de valores nulos\n",
    "nulos = df['vendedor'].isnull().sum()\n",
    "print(f'🟨 Valores nulos na coluna \"vendedor\": {nulos}')\n",
    "\n",
    "# 2. Visualizar linhas com valores nulos\n",
    "print(\"\\n🧾 Linhas com valores nulos:\")\n",
    "display(df[df['vendedor'].isnull()])\n",
    "\n",
    "# 3. Verificar valores que são strings vazias ou só espaços\n",
    "espacos_vazios = df['vendedor'].astype(str).str.strip() == ''\n",
    "print(f'\\n⚠️ Linhas com string vazia ou espaços em branco: {espacos_vazios.sum()}')\n",
    "display(df[espacos_vazios])\n",
    "\n",
    "# 4. Verificar tipos de dados na coluna\n",
    "print(\"\\n🧬 Tipos de dados encontrados na coluna:\")\n",
    "print(df['vendedor'].apply(type).value_counts())\n",
    "\n",
    "# 5. Verificar padrões inválidos (exemplo: algo que não seja apenas letras e espaços)\n",
    "padrao_valido = df['vendedor'].astype(str).str.match(r'^[A-Za-zÀ-ÿ\\s]+$')\n",
    "valores_invalidos = df[~padrao_valido]\n",
    "print(f'\\n🚫 Valores com padrão inválido: {valores_invalidos.shape[0]}')\n",
    "display(valores_invalidos)\n",
    "\n",
    "# 6. Exibir valores únicos (para inspeção manual)\n",
    "print(\"\\n🔎 Valores únicos na coluna\")\n",
    "print(df['vendedor'].unique())\n"
   ],
   "id": "3049e0a15467153f",
   "outputs": [
    {
     "name": "stdout",
     "output_type": "stream",
     "text": [
      "🟨 Valores nulos na coluna \"vendedor\": 0\n",
      "\n",
      "🧾 Linhas com valores nulos:\n"
     ]
    },
    {
     "data": {
      "text/plain": [
       "Empty DataFrame\n",
       "Columns: [id_da_compra, data, hora, cliente, produto, valor, quantidade, total, status, cidade, estado, pais, cep, frete, pagamento, vendedor, marca]\n",
       "Index: []"
      ],
      "text/html": [
       "<div>\n",
       "<style scoped>\n",
       "    .dataframe tbody tr th:only-of-type {\n",
       "        vertical-align: middle;\n",
       "    }\n",
       "\n",
       "    .dataframe tbody tr th {\n",
       "        vertical-align: top;\n",
       "    }\n",
       "\n",
       "    .dataframe thead th {\n",
       "        text-align: right;\n",
       "    }\n",
       "</style>\n",
       "<table border=\"1\" class=\"dataframe\">\n",
       "  <thead>\n",
       "    <tr style=\"text-align: right;\">\n",
       "      <th></th>\n",
       "      <th>id_da_compra</th>\n",
       "      <th>data</th>\n",
       "      <th>hora</th>\n",
       "      <th>cliente</th>\n",
       "      <th>produto</th>\n",
       "      <th>valor</th>\n",
       "      <th>quantidade</th>\n",
       "      <th>total</th>\n",
       "      <th>status</th>\n",
       "      <th>cidade</th>\n",
       "      <th>estado</th>\n",
       "      <th>pais</th>\n",
       "      <th>cep</th>\n",
       "      <th>frete</th>\n",
       "      <th>pagamento</th>\n",
       "      <th>vendedor</th>\n",
       "      <th>marca</th>\n",
       "    </tr>\n",
       "  </thead>\n",
       "  <tbody>\n",
       "  </tbody>\n",
       "</table>\n",
       "</div>"
      ]
     },
     "metadata": {},
     "output_type": "display_data"
    },
    {
     "name": "stdout",
     "output_type": "stream",
     "text": [
      "\n",
      "⚠️ Linhas com string vazia ou espaços em branco: 0\n"
     ]
    },
    {
     "data": {
      "text/plain": [
       "Empty DataFrame\n",
       "Columns: [id_da_compra, data, hora, cliente, produto, valor, quantidade, total, status, cidade, estado, pais, cep, frete, pagamento, vendedor, marca]\n",
       "Index: []"
      ],
      "text/html": [
       "<div>\n",
       "<style scoped>\n",
       "    .dataframe tbody tr th:only-of-type {\n",
       "        vertical-align: middle;\n",
       "    }\n",
       "\n",
       "    .dataframe tbody tr th {\n",
       "        vertical-align: top;\n",
       "    }\n",
       "\n",
       "    .dataframe thead th {\n",
       "        text-align: right;\n",
       "    }\n",
       "</style>\n",
       "<table border=\"1\" class=\"dataframe\">\n",
       "  <thead>\n",
       "    <tr style=\"text-align: right;\">\n",
       "      <th></th>\n",
       "      <th>id_da_compra</th>\n",
       "      <th>data</th>\n",
       "      <th>hora</th>\n",
       "      <th>cliente</th>\n",
       "      <th>produto</th>\n",
       "      <th>valor</th>\n",
       "      <th>quantidade</th>\n",
       "      <th>total</th>\n",
       "      <th>status</th>\n",
       "      <th>cidade</th>\n",
       "      <th>estado</th>\n",
       "      <th>pais</th>\n",
       "      <th>cep</th>\n",
       "      <th>frete</th>\n",
       "      <th>pagamento</th>\n",
       "      <th>vendedor</th>\n",
       "      <th>marca</th>\n",
       "    </tr>\n",
       "  </thead>\n",
       "  <tbody>\n",
       "  </tbody>\n",
       "</table>\n",
       "</div>"
      ]
     },
     "metadata": {},
     "output_type": "display_data"
    },
    {
     "name": "stdout",
     "output_type": "stream",
     "text": [
      "\n",
      "🧬 Tipos de dados encontrados na coluna:\n",
      "vendedor\n",
      "<class 'str'>    368752\n",
      "Name: count, dtype: int64\n",
      "\n",
      "🚫 Valores com padrão inválido: 0\n"
     ]
    },
    {
     "data": {
      "text/plain": [
       "Empty DataFrame\n",
       "Columns: [id_da_compra, data, hora, cliente, produto, valor, quantidade, total, status, cidade, estado, pais, cep, frete, pagamento, vendedor, marca]\n",
       "Index: []"
      ],
      "text/html": [
       "<div>\n",
       "<style scoped>\n",
       "    .dataframe tbody tr th:only-of-type {\n",
       "        vertical-align: middle;\n",
       "    }\n",
       "\n",
       "    .dataframe tbody tr th {\n",
       "        vertical-align: top;\n",
       "    }\n",
       "\n",
       "    .dataframe thead th {\n",
       "        text-align: right;\n",
       "    }\n",
       "</style>\n",
       "<table border=\"1\" class=\"dataframe\">\n",
       "  <thead>\n",
       "    <tr style=\"text-align: right;\">\n",
       "      <th></th>\n",
       "      <th>id_da_compra</th>\n",
       "      <th>data</th>\n",
       "      <th>hora</th>\n",
       "      <th>cliente</th>\n",
       "      <th>produto</th>\n",
       "      <th>valor</th>\n",
       "      <th>quantidade</th>\n",
       "      <th>total</th>\n",
       "      <th>status</th>\n",
       "      <th>cidade</th>\n",
       "      <th>estado</th>\n",
       "      <th>pais</th>\n",
       "      <th>cep</th>\n",
       "      <th>frete</th>\n",
       "      <th>pagamento</th>\n",
       "      <th>vendedor</th>\n",
       "      <th>marca</th>\n",
       "    </tr>\n",
       "  </thead>\n",
       "  <tbody>\n",
       "  </tbody>\n",
       "</table>\n",
       "</div>"
      ]
     },
     "metadata": {},
     "output_type": "display_data"
    },
    {
     "name": "stdout",
     "output_type": "stream",
     "text": [
      "\n",
      "🔎 Valores únicos na coluna\n",
      "['SAMUEL HENRIQUE CAÇADOR' 'MICAEL MALAQUIAS DE SOUZA OLIVEIRA'\n",
      " 'HENRICO MATOS LIMA DA CUNHA' 'GABRIEL QUEIROZ DE AGUIAR'\n",
      " 'VICTOR GONÇALVES DONADONI' 'FELIPE HENRIQUE COSTA BARNABE MARAZO'\n",
      " 'HENRICO VICTOR ALVES' 'CARLOS QUEIROZ DE AGUIAR'\n",
      " 'LUCAS VITOR FAÇANHA NEVES' 'PAULO SOUZA RONCETE' 'nan']\n"
     ]
    }
   ],
   "execution_count": 61
  },
  {
   "metadata": {},
   "cell_type": "markdown",
   "source": [
    "## ✅ Conclusão da Análise da Coluna `vendedor`\n",
    "\n",
    "Bom, como não encontramos erros estruturais na coluna `vendedor`, aqui está o resumo:\n",
    "\n",
    "- 🟨 **Valores nulos reais** (`NaN`): 0\n",
    "- ⚠️ **Strings vazias ou compostas apenas por espaços**: 0\n",
    "- 🚫 **Padrões inválidos (ex: números ou símbolos)**: 0\n",
    "- 🧬 **Todos os dados são do tipo `str`**\n",
    "- 🔎 **Valores únicos verificados mostram um caso suspeito: `'nan'` (string)**\n",
    "\n",
    "Embora não seja um `NaN` real, o valor `'nan'` é semântico e logicamente inválido, provavelmente resultado de uma conversão ou importação mal interpretada.\n",
    "\n",
    "A seguir, vamos tratar esse caso específico substituindo `'nan'` (como string) por `np.nan`, para ser tratado corretamente em operações futuras.\n"
   ],
   "id": "875b3e8ada537cda"
  },
  {
   "metadata": {
    "ExecuteTime": {
     "end_time": "2025-04-21T20:40:53.220563Z",
     "start_time": "2025-04-21T20:40:53.031660Z"
    }
   },
   "cell_type": "code",
   "source": [
    "import numpy as np\n",
    "\n",
    "# 🎯 Substituir valores 'nan' (como string) por np.nan\n",
    "df['vendedor'] = df['vendedor'].replace('nan', np.nan)\n",
    "\n",
    "# Verificar novamente após substituição\n",
    "nulos_corrigidos = df['vendedor'].isnull().sum()\n",
    "print(f'✅ Após correção, valores nulos na coluna \"vendedor\": {nulos_corrigidos}')\n"
   ],
   "id": "4702be4a4d16906d",
   "outputs": [
    {
     "name": "stdout",
     "output_type": "stream",
     "text": [
      "✅ Após correção, valores nulos na coluna \"vendedor\": 3680\n"
     ]
    }
   ],
   "execution_count": 62
  },
  {
   "metadata": {},
   "cell_type": "markdown",
   "source": [
    "## 💡 Exemplo de lógica para preenchimento:\n",
    "* Ideia 1 : Se o mesmo cliente comprou o mesmo produto na mesma data, e em outra linha o vendedor está preenchido, podemos usar esse dado.\n",
    "\n",
    "* Ideia 2: Se uma combinação de produto, marca e cidade sempre aparece com o mesmo vendedor, podemos assumir esse vendedor para os nulos."
   ],
   "id": "2adcd9f5d0af5b7c"
  },
  {
   "metadata": {
    "ExecuteTime": {
     "end_time": "2025-04-21T20:41:07.156219Z",
     "start_time": "2025-04-21T20:40:53.407024Z"
    }
   },
   "cell_type": "code",
   "source": [
    "# Primeiro, vamos ver quantas linhas têm vendedor == NaN (após a limpeza anterior)\n",
    "faltando = df[df['vendedor'].isna()]\n",
    "print(f\"🔎 Linhas com vendedor faltando: {faltando.shape[0]}\")\n",
    "\n",
    "# Exemplo: tentar preencher usando cliente + produto como chave\n",
    "# Criamos um mapeamento de pares cliente-produto com vendedor conhecido\n",
    "mapeamento = (\n",
    "    df[df['vendedor'].notna()]\n",
    "    .groupby(['cliente', 'produto'])['vendedor']\n",
    "    .agg(lambda x: x.mode()[0] if not x.mode().empty else np.nan)\n",
    ")\n",
    "\n",
    "# Aplicar esse mapeamento para preencher os nulos\n",
    "def preencher_vendedor(row):\n",
    "    if pd.isna(row['vendedor']):\n",
    "        return mapeamento.get((row['cliente'], row['produto']), np.nan)\n",
    "    return row['vendedor']\n",
    "\n",
    "df['vendedor'] = df.apply(preencher_vendedor, axis=1)\n",
    "\n",
    "# Verificar quantos ainda ficaram sem valor\n",
    "faltando_apos = df['vendedor'].isnull().sum()\n",
    "print(f\"✅ Linhas com vendedor ainda faltando após tentativa de preenchimento: {faltando_apos}\")\n"
   ],
   "id": "e220d65566f83dc4",
   "outputs": [
    {
     "name": "stdout",
     "output_type": "stream",
     "text": [
      "🔎 Linhas com vendedor faltando: 3680\n",
      "✅ Linhas com vendedor ainda faltando após tentativa de preenchimento: 4\n"
     ]
    }
   ],
   "execution_count": 63
  },
  {
   "metadata": {
    "ExecuteTime": {
     "end_time": "2025-04-21T20:41:07.859200Z",
     "start_time": "2025-04-21T20:41:07.172086Z"
    }
   },
   "cell_type": "code",
   "source": [
    "# Remover as linhas com vendedor ainda faltando\n",
    "df = df[df['vendedor'].notna()].reset_index(drop=True)\n",
    "\n",
    "print(f\"✅ Base final sem valores nulos em 'vendedor': {df.shape[0]} linhas\")\n"
   ],
   "id": "8119a706ddb9292e",
   "outputs": [
    {
     "name": "stdout",
     "output_type": "stream",
     "text": [
      "✅ Base final sem valores nulos em 'vendedor': 368748 linhas\n"
     ]
    }
   ],
   "execution_count": 64
  },
  {
   "metadata": {
    "ExecuteTime": {
     "end_time": "2025-04-21T20:44:49.513783Z",
     "start_time": "2025-04-21T20:44:39.773851Z"
    }
   },
   "cell_type": "code",
   "source": [
    "# Normalizando o texto da coluna 'produto' para evitar inconsistências\n",
    "df['produto'] = df['produto'].str.strip().str.lower()\n",
    "\n",
    "# Removendo o item 'talco' da análise\n",
    "if (df['produto'] == 'talco').sum() == 1:\n",
    "    df = df[df['produto'] != 'talco']\n",
    "    print(\"✅ Produto 'talco' removido com sucesso.\")\n",
    "else:\n",
    "    print(\"⚠️ Produto 'talco' aparece mais de uma vez.\")"
   ],
   "id": "e5575136649cd109",
   "outputs": [
    {
     "name": "stdout",
     "output_type": "stream",
     "text": [
      "✅ Produto 'talco' removido com sucesso.\n"
     ]
    }
   ],
   "execution_count": 66
  },
  {
   "metadata": {
    "ExecuteTime": {
     "end_time": "2025-04-21T20:45:28.195884Z",
     "start_time": "2025-04-21T20:45:22.284859Z"
    }
   },
   "cell_type": "code",
   "source": [
    "df.to_csv('vendas_limpo.csv', index=False)\n",
    "print(\"✅ Arquivo salvo como 'vendas_limpos.csv'\")\n"
   ],
   "id": "257cf96657dd9594",
   "outputs": [
    {
     "name": "stdout",
     "output_type": "stream",
     "text": [
      "✅ Arquivo salvo como 'vendas_limpos.csv'\n"
     ]
    }
   ],
   "execution_count": 67
  },
  {
   "metadata": {
    "ExecuteTime": {
     "end_time": "2025-04-21T20:48:00.947934Z",
     "start_time": "2025-04-21T20:47:40.513959Z"
    }
   },
   "cell_type": "code",
   "source": [
    "import pandas as pd\n",
    "from mlxtend.preprocessing import TransactionEncoder\n",
    "from mlxtend.frequent_patterns import fpgrowth, association_rules\n",
    "\n",
    "# 🧹 Garante que está trabalhando com uma cópia segura do DataFrame\n",
    "df = df.copy()\n",
    "\n",
    "# 🧩 Cria uma nova coluna com Produto + Pagamento\n",
    "df.loc[:, 'item'] = df['produto'].astype(str).str.strip() + ' | ' + df['pagamento'].astype(str).str.strip()\n",
    "\n",
    "# 🛒 Agrupa por compra (id_da_compra), gerando listas de itens por transação\n",
    "transacoes = df.groupby('id_da_compra')['item'].apply(list).tolist()\n",
    "\n",
    "# 🔄 Transforma as transações para formato binário (necessário para FP-Growth)\n",
    "te = TransactionEncoder()\n",
    "df_bin = pd.DataFrame(te.fit(transacoes).transform(transacoes), columns=te.columns_)\n",
    "\n",
    "# ⛏️ Executa FP-Growth para encontrar conjuntos frequentes\n",
    "frequentes = fpgrowth(df_bin, min_support=0.02, use_colnames=True)\n",
    "\n",
    "# 🔗 Gera regras de associação com confiança mínima de 50%\n",
    "regras = association_rules(frequentes, metric=\"confidence\", min_threshold=0.5)\n",
    "\n",
    "# 🔍 Exibe as 10 regras com maior lift (maior poder de associação)\n",
    "regras_ordenadas = regras[['antecedents', 'consequents', 'support', 'confidence', 'lift']].sort_values(by='lift', ascending=False)\n",
    "\n",
    "# 👁️ Mostra os resultados\n",
    "print(regras_ordenadas.head(10))\n"
   ],
   "id": "f6d3533f487726e3",
   "outputs": [
    {
     "name": "stdout",
     "output_type": "stream",
     "text": [
      "                                   antecedents  \\\n",
      "10     (refrigerante | transferência bancária)   \n",
      "11  (suco de laranja | transferência bancária)   \n",
      "7                         (refrigerante | pix)   \n",
      "8                      (suco de laranja | pix)   \n",
      "13          (desinfetante | cartão de crédito)   \n",
      "12          (papel toalha | cartão de crédito)   \n",
      "31                        (desinfetante | pix)   \n",
      "30                        (papel toalha | pix)   \n",
      "33     (papel toalha | transferência bancária)   \n",
      "32     (desinfetante | transferência bancária)   \n",
      "\n",
      "                                   consequents   support  confidence  \\\n",
      "10  (suco de laranja | transferência bancária)  0.020683    0.552538   \n",
      "11     (refrigerante | transferência bancária)  0.020683    0.570575   \n",
      "7                      (suco de laranja | pix)  0.021567    0.560659   \n",
      "8                         (refrigerante | pix)  0.021567    0.575111   \n",
      "13          (papel toalha | cartão de crédito)  0.039817    0.625065   \n",
      "12          (desinfetante | cartão de crédito)  0.039817    0.622297   \n",
      "31                        (papel toalha | pix)  0.041517    0.640525   \n",
      "30                        (desinfetante | pix)  0.041517    0.626509   \n",
      "33     (desinfetante | transferência bancária)  0.041667    0.630199   \n",
      "32     (papel toalha | transferência bancária)  0.041667    0.638570   \n",
      "\n",
      "         lift  \n",
      "10  15.242423  \n",
      "11  15.242423  \n",
      "7   14.950895  \n",
      "8   14.950895  \n",
      "13   9.769191  \n",
      "12   9.769191  \n",
      "31   9.665864  \n",
      "30   9.665864  \n",
      "33   9.658224  \n",
      "32   9.658224  \n"
     ]
    }
   ],
   "execution_count": 69
  }
 ],
 "metadata": {
  "kernelspec": {
   "display_name": "Python 3",
   "language": "python",
   "name": "python3"
  },
  "language_info": {
   "codemirror_mode": {
    "name": "ipython",
    "version": 2
   },
   "file_extension": ".py",
   "mimetype": "text/x-python",
   "name": "python",
   "nbconvert_exporter": "python",
   "pygments_lexer": "ipython2",
   "version": "2.7.6"
  }
 },
 "nbformat": 4,
 "nbformat_minor": 5
}
